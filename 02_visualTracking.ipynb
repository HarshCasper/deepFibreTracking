{
 "cells": [
  {
   "cell_type": "code",
   "execution_count": null,
   "metadata": {},
   "outputs": [],
   "source": [
    "import time\n",
    "import nrrd\n",
    "import nibabel as nb\n",
    "import numpy as np\n",
    "import matplotlib.pyplot as plt\n",
    "import h5py\n",
    "\n",
    "from dipy.tracking.local import LocalTracking, ThresholdTissueClassifier\n",
    "from dipy.tracking.utils import random_seeds_from_mask\n",
    "from dipy.reconst.dti import TensorModel\n",
    "from dipy.reconst.csdeconv import (ConstrainedSphericalDeconvModel,\n",
    "                                   auto_response)\n",
    "from dipy.reconst.shm import CsaOdfModel\n",
    "from dipy.data import default_sphere\n",
    "from dipy.direction import peaks_from_model\n",
    "from dipy.data import fetch_stanford_hardi, read_stanford_hardi, get_sphere\n",
    "from dipy.segment.mask import median_otsu\n",
    "from dipy.viz import actor, window\n",
    "from dipy.io.image import save_nifti\n",
    "from dipy.io import read_bvals_bvecs\n",
    "from dipy.core import gradients\n",
    "from dipy.tracking.streamline import Streamlines\n",
    "from dipy.io import read_bvals_bvecs\n",
    "from dipy.core.gradients import gradient_table, gradient_table_from_bvals_bvecs\n",
    "from dipy.reconst.dti import fractional_anisotropy\n",
    "import dipy.reconst.dti as dti\n",
    "from dipy.tracking import utils\n",
    "\n",
    "import src.dwi_tools as dwi_tools\n",
    "import src.nn_helper as nn_helper\n",
    "import src.tracking as tracking\n",
    "\n",
    "from dipy.tracking.streamline import values_from_volume\n",
    "import dipy.align.vector_fields as vfu\n",
    "from dipy.core.sphere import Sphere\n",
    "from dipy.core import subdivide_octahedron \n",
    "from scipy.spatial import KDTree\n",
    "from dipy.core import subdivide_octahedron \n",
    "\n",
    "from dipy.tracking.local import LocalTracking\n",
    "from dipy.viz import window, actor\n",
    "from dipy.viz.colormap import line_colors\n",
    "from dipy.tracking.streamline import Streamlines, transform_streamlines\n",
    "from dipy.tracking import metrics\n",
    "from dipy.tracking.utils import random_seeds_from_mask, seeds_from_mask\n",
    "\n",
    "import numpy as np\n",
    "import warnings\n",
    "\n",
    "import tensorflow as tf\n",
    "from joblib import Parallel, delayed\n",
    "import multiprocessing\n",
    "from keras.models import load_model\n",
    "from keras.layers import Activation\n",
    "\n",
    "import importlib\n",
    "importlib.reload(tracking)\n",
    "importlib.reload(nn_helper)\n",
    "import src.tracking as tracking\n",
    "import tensorflow as tf\n",
    "from src.nn_helper import swish, squared_cosine_proximity_2\n",
    "from src.SelectiveDropout import SelectiveDropout\n",
    "import os \n",
    "import warnings"
   ]
  },
  {
   "cell_type": "code",
   "execution_count": null,
   "metadata": {},
   "outputs": [],
   "source": [
    "streamlines = dwi_tools.loadVTKstreamlines('results_tracking/ISMRM_2015_Tracto_challenge_data//train_res100_30k_noB0InSH_step0.6_wholeBrain_b1000_csd_ismrm_gt_aggrPast_1x1x1_noUnitTension/mlp_single_sqCos2WEP_dx_1_dy_1_dz_1_dd_100_ReLU_feat_1024_depth_3_output_3_lr_0.0001_dropout_1_bn_0_unitTangent_0--0.708287reslice-False-denoising-False-200st-20mm-fa-0.vtk')"
   ]
  },
  {
   "cell_type": "code",
   "execution_count": null,
   "metadata": {},
   "outputs": [],
   "source": [
    "importlib.reload(dwi_tools)\n",
    "sl2 = dwi_tools.filterStreamlinesByCurvature(streamlines, 20)"
   ]
  },
  {
   "cell_type": "code",
   "execution_count": null,
   "metadata": {},
   "outputs": [],
   "source": [
    "len(sl2)"
   ]
  },
  {
   "cell_type": "code",
   "execution_count": null,
   "metadata": {},
   "outputs": [],
   "source": [
    "dwi_tools.saveVTKstreamlines(streamlines=sl2, pStreamlines='results_tracking/ISMRM_2015_Tracto_challenge_data//train_res100_30k_noB0InSH_step0.6_wholeBrain_b1000_csd_ismrm_gt_aggrPast_1x1x1_noUnitTension/mlp_single_sqCos2WEP_dx_1_dy_1_dz_1_dd_100_ReLU_feat_1024_depth_3_output_3_lr_0.0001_dropout_1_bn_0_unitTangent_0--0.708287reslice-False-denoising-False-200st-20mm-fa-0-curv20.vtk')"
   ]
  },
  {
   "cell_type": "code",
   "execution_count": null,
   "metadata": {},
   "outputs": [],
   "source": [
    "len(sl2)"
   ]
  },
  {
   "cell_type": "code",
   "execution_count": null,
   "metadata": {},
   "outputs": [],
   "source": [
    "importlib.reload(dwi_tools)\n",
    "sl2 = dwi_tools.filterStreamlinesByCurvature(streamlines, 20)"
   ]
  },
  {
   "cell_type": "code",
   "execution_count": null,
   "metadata": {},
   "outputs": [],
   "source": [
    "from dipy.io.streamline import load_trk\n",
    "fname = '/tmp/ISMRM_2015_Tracto_challenge_data/trackts.tck'\n",
    "streams, hdr = load_trk(fname)\n",
    "streamlines = Streamlines(streams)"
   ]
  },
  {
   "cell_type": "code",
   "execution_count": null,
   "metadata": {},
   "outputs": [],
   "source": [
    "streamlines = dwi_tools.loadVTKstreamlines('mlp-077534.vtk')"
   ]
  },
  {
   "cell_type": "code",
   "execution_count": null,
   "metadata": {},
   "outputs": [],
   "source": [
    "len(streamlines_filt)"
   ]
  },
  {
   "cell_type": "code",
   "execution_count": null,
   "metadata": {},
   "outputs": [],
   "source": [
    "streamlines_filt = dwi_tools.filterStreamlinesByLength(streamlines, 40)"
   ]
  },
  {
   "cell_type": "code",
   "execution_count": null,
   "metadata": {},
   "outputs": [],
   "source": [
    "streamlines_filt_2 = dwi_tools.filterStreamlinesByCurvature(streamlines, 20)"
   ]
  },
  {
   "cell_type": "code",
   "execution_count": null,
   "metadata": {},
   "outputs": [],
   "source": [
    "len(streamlines_filt_2)"
   ]
  },
  {
   "cell_type": "code",
   "execution_count": null,
   "metadata": {},
   "outputs": [],
   "source": [
    "dwi_tools.saveVTKstreamlines(pStreamlines='mlp-077534-c20.vtk', streamlines=streamlines_filt_2)"
   ]
  },
  {
   "cell_type": "code",
   "execution_count": null,
   "metadata": {},
   "outputs": [],
   "source": [
    "dwi_tools.saveVTKstreamlines(pStreamlines='mlp-077534-l40.vtk', streamlines=streamlines_filt)"
   ]
  },
  {
   "cell_type": "code",
   "execution_count": null,
   "metadata": {},
   "outputs": [],
   "source": [
    "dwi_tools.visStreamlines(streamlines_filt)"
   ]
  },
  {
   "cell_type": "code",
   "execution_count": null,
   "metadata": {},
   "outputs": [],
   "source": [
    "# Read Streamlines\n",
    "from dipy.io.streamline import load_trk\n",
    "fname = '/home/nico/testDouble_IC.tck'\n",
    "fname2 = fname.replace('.tck','.vtk')\n",
    "streams, hdr = load_trk(fname)\n",
    "streamlines = Streamlines(streams)\n",
    "dwi_tools.saveVTKstreamlines(streamlines=streamlines, pStreamlines=fname2)"
   ]
  },
  {
   "cell_type": "code",
   "execution_count": null,
   "metadata": {},
   "outputs": [],
   "source": [
    "sl = np.array(streamlines[10])"
   ]
  },
  {
   "cell_type": "code",
   "execution_count": null,
   "metadata": {},
   "outputs": [],
   "source": [
    "sl"
   ]
  },
  {
   "cell_type": "code",
   "execution_count": null,
   "metadata": {},
   "outputs": [],
   "source": [
    "np.sum( (sl[0:-1] - sl[1:]) ** 2, axis = 1 )"
   ]
  },
  {
   "cell_type": "markdown",
   "metadata": {},
   "source": [
    "Load seed mask and prepare our data"
   ]
  },
  {
   "cell_type": "code",
   "execution_count": null,
   "metadata": {},
   "outputs": [],
   "source": [
    "fa_threshold = 0.15\n",
    "#    fa_threshold = 0.2\n",
    "sh_order = 8\n",
    "#    b_value = 3000\n",
    "stepWidth = 0.6\n",
    "minimumStreamlineLength = 50 # mm\n",
    "\n",
    "coordinateScaling = 1\n",
    "useDTIPeakDirection = True\n",
    "useSphericalHarmonics = True\n",
    "\n",
    "pCaseID = 'HCP/100408'\n",
    "pCaseID = 'HCP/100307'\n",
    "pCaseID = 'ISMRM_2015_Tracto_challenge_data'\n",
    "\n",
    "pModel = 'results/train_sh8_noB0InSH_step0.6_wholeBrain_b1000_2_csd_ismrm_1x1x1_noUnitTension/models/NORM_V3_mlp_single_sqCos2_dx_1_dy_1_dz_1_dd_45_ReLU_feat_512_depth_3_output_3_lr_0.0050_dropout_1_bn_0_pt_0_unitTension_0-zvFix2_54--0.923467.h5'\n",
    "\n",
    "tracker = load_model(pModel , custom_objects={'tf':tf, 'swish':Activation(swish), 'SelectiveDropout': SelectiveDropout, 'squared_cosine_proximity_2': squared_cosine_proximity_2})\n",
    "\n",
    "tracker.summary()"
   ]
  },
  {
   "cell_type": "code",
   "execution_count": null,
   "metadata": {},
   "outputs": [],
   "source": [
    "useDenoising = False\n",
    "b_value = 1000\n",
    "# load DWI data\n",
    "print('Loading dataset %s at b=%d' % (pCaseID, b_value))\n",
    "bvals,bvecs,gtab,dwi,aff,t1 = dwi_tools.loadISMRMData('data/%s' % (pCaseID), denoiseData = useDenoising)\n",
    "b0_mask, binarymask = median_otsu(dwi[:,:,:,0], 2, 1)\n",
    "\n",
    "# crop DWI data\n",
    "dwi_subset, gtab_subset, bvals_subset, bvecs_subset = dwi_tools.cropDatsetToBValue(b_value, bvals, bvecs, dwi)\n",
    "b0_idx = bvals < 10\n",
    "b0 = dwi[..., b0_idx].mean(axis=3)\n",
    "dwi_singleShell = np.concatenate((dwi_subset, dwi[..., b0_idx]), axis=3)\n",
    "#    dwi_singleShell_norm = dwi_tools.normalize_dwi(dwi_singleShell, b0)\n",
    "bvals_singleShell = np.concatenate((bvals_subset, bvals[..., b0_idx]), axis=0)\n",
    "bvecs_singleShell = np.concatenate((bvecs_subset, bvecs[b0_idx,]), axis=0)\n",
    "gtab_singleShell = gradient_table(bvals=bvals_singleShell, bvecs=bvecs_singleShell, b0_threshold = 10)"
   ]
  },
  {
   "cell_type": "code",
   "execution_count": null,
   "metadata": {},
   "outputs": [],
   "source": [
    "use2DProjection = False\n",
    "useSphericalHarmonics = True"
   ]
  },
  {
   "cell_type": "code",
   "execution_count": null,
   "metadata": {},
   "outputs": [],
   "source": [
    "if(useSphericalHarmonics):\n",
    "    print('Spherical Harmonics (ours)')\n",
    "    start_time = time.time()\n",
    "    tracking_data = dwi_tools.get_spherical_harmonics_coefficients(bvals=bvals_subset,bvecs=bvecs_subset,sh_order=sh_order, dwi=dwi_subset, b0 = b0)\n",
    "    runtime = time.time() - start_time\n",
    "    print('Runtime ' + str(runtime) + 's')\n",
    "\n",
    "if(use2DProjection):\n",
    "    print('2D projection')\n",
    "    start_time = time.time()\n",
    "    tracking_data, resamplingSphere = dwi_tools.resample_dwi_forunet(dwi_subset, b0, bvals_subset, bvecs_subset, sh_order=8, smooth=0, mean_centering=False)\n",
    "    runtime = time.time() - start_time\n",
    "    print('Runtime ' + str(runtime) + 's')\n",
    "\n",
    "\n",
    "print('DTI Peak Direction/odf estimation')\n",
    "start_time = time.time()\n",
    "dti_model = dti.TensorModel(gtab_singleShell, fit_method='LS')\n",
    "dti_fit = dti_model.fit(dwi_singleShell)\n",
    "runtime = time.time() - start_time\n",
    "print('Runtime ' + str(runtime) + 's')\n",
    "\n",
    "\n",
    "# whole brain seeds\n",
    "wholebrainseeds = seeds_from_mask(binarymask, affine=aff)\n",
    "rndseeds = random_seeds_from_mask(binarymask, seeds_count=300, seed_count_per_voxel=False, affine=aff)"
   ]
  },
  {
   "cell_type": "code",
   "execution_count": null,
   "metadata": {},
   "outputs": [],
   "source": [
    "rndseeds = random_seeds_from_mask(binarymask, seeds_count=3000, seed_count_per_voxel=False, affine=aff)"
   ]
  },
  {
   "cell_type": "markdown",
   "metadata": {},
   "source": [
    "# Start Tracking "
   ]
  },
  {
   "cell_type": "code",
   "execution_count": null,
   "metadata": {},
   "outputs": [],
   "source": [
    "seedsToUse = rndseeds\n",
    "noX = 1\n",
    "noY = 1\n",
    "noZ = 1\n",
    "noC = 45\n",
    "noTrackingSteps = 5"
   ]
  },
  {
   "cell_type": "code",
   "execution_count": null,
   "metadata": {},
   "outputs": [],
   "source": [
    "usePreviousDirection = False"
   ]
  },
  {
   "cell_type": "code",
   "execution_count": null,
   "metadata": {},
   "outputs": [],
   "source": [
    "importlib.reload(tracking)\n",
    "warnings.filterwarnings(\"ignore\")\n",
    "start_time = time.time()\n",
    "streamlines, vNorms, sl_forward, sl_backward, slp = tracking.startWithStopping__(usePreviousDirection=usePreviousDirection, printProgress = True, fa_threshold = 0, mask=binarymask,fa=dti_fit.fa, inverseDirection=False, seeds=seedsToUse, data=tracking_data, affine=aff, model=tracker, noX=noX, noY=noY, noZ=noZ, dw = noC, stepWidth = stepWidth, coordinateScaling = coordinateScaling, noIterations = noTrackingSteps)\n",
    "runtime = time.time() - start_time\n",
    "print('Runtime ' + str(runtime) + ' s ')"
   ]
  },
  {
   "cell_type": "code",
   "execution_count": null,
   "metadata": {},
   "outputs": [],
   "source": [
    "np.sqrt(np.sum((streamlines[2][0:-1] - streamlines[2][1:])**2, axis=1))"
   ]
  },
  {
   "cell_type": "code",
   "execution_count": null,
   "metadata": {},
   "outputs": [],
   "source": [
    "streamlines[2]"
   ]
  },
  {
   "cell_type": "code",
   "execution_count": null,
   "metadata": {},
   "outputs": [],
   "source": [
    "seedsToUse[2]"
   ]
  },
  {
   "cell_type": "code",
   "execution_count": null,
   "metadata": {},
   "outputs": [],
   "source": [
    "sl_forward[2]"
   ]
  },
  {
   "cell_type": "code",
   "execution_count": null,
   "metadata": {},
   "outputs": [],
   "source": [
    "sl_backward[2]"
   ]
  },
  {
   "cell_type": "code",
   "execution_count": null,
   "metadata": {},
   "outputs": [],
   "source": [
    "streamlines_mlp_simple_sc,vNorms = tracking.startWithStopping(printProgress = True, bayesianModel = False, fa_threshold = fa_threshold, mask=binarymask,fa=dti_fit.fa, bitracker=True, inverseDirection=False, seeds=seedsToUse, data=tracking_data, affine=aff, model=tracker, noX=noX, noY=noY, noZ=noZ, dw = noC, stepWidth = stepWidth, coordinateScaling = coordinateScaling, noIterations = noTrackingSteps)\n",
    "streamlines_mlp_simple_sc_2,vNorms_2 = tracking.startWithStopping(printProgress = True, bayesianModel = False, fa_threshold = fa_threshold, mask=binarymask,fa=dti_fit.fa, bitracker=True, inverseDirection=True, seeds=seedsToUse, data=tracking_data, affine=aff, model=tracker, noX=noX, noY=noY, noZ=noZ, dw = noC, stepWidth = stepWidth, coordinateScaling = coordinateScaling, noIterations = noTrackingSteps)\n",
    "streamlines_joined_sc = tracking.joinTwoAlignedStreamlineLists(streamlines_mlp_simple_sc,streamlines_mlp_simple_sc_2)"
   ]
  },
  {
   "cell_type": "code",
   "execution_count": null,
   "metadata": {},
   "outputs": [],
   "source": [
    "dwi_tools.visStreamlines(streamlines_mlp_simple,dwi_singleShell[:,:,:,0], vol_slice_idx = 30)"
   ]
  },
  {
   "cell_type": "code",
   "execution_count": null,
   "metadata": {},
   "outputs": [],
   "source": [
    "dwi_tools.visStreamlines(Streamlines(streamlines_joined_sc),dwi_singleShell[:,:,:,0], vol_slice_idx = 30)"
   ]
  },
  {
   "cell_type": "code",
   "execution_count": null,
   "metadata": {},
   "outputs": [],
   "source": [
    "tracker.layers[6].setDropoutEnabled(1)"
   ]
  },
  {
   "cell_type": "code",
   "execution_count": null,
   "metadata": {},
   "outputs": [],
   "source": [
    "tracker.layers[8].setDropoutEnabled(1)"
   ]
  },
  {
   "cell_type": "code",
   "execution_count": null,
   "metadata": {},
   "outputs": [],
   "source": [
    "tracker.layers[10].setDropoutEnabled(1)"
   ]
  },
  {
   "cell_type": "code",
   "execution_count": null,
   "metadata": {},
   "outputs": [],
   "source": [
    "def setAllDropoutLayers(m, value):\n",
    "    ll = [item for item in m.layers if type(item) is SelectiveDropout]\n",
    "    for ditLayer in ll:\n",
    "        ditLayer.setDropoutEnabled(value)\n",
    "        \n",
    "def printDropoutLayersState(m):\n",
    "    ll = [item for item in m.layers if type(item) is SelectiveDropout]\n",
    "    for ditLayer in ll:\n",
    "        print(ditLayer._getDropoutEnabled())"
   ]
  },
  {
   "cell_type": "code",
   "execution_count": null,
   "metadata": {},
   "outputs": [],
   "source": [
    "setAllDropoutLayers(tracker, 0)\n",
    "printDropoutLayersState(tracker)"
   ]
  },
  {
   "cell_type": "code",
   "execution_count": null,
   "metadata": {},
   "outputs": [],
   "source": [
    "tracker.summary()"
   ]
  },
  {
   "cell_type": "code",
   "execution_count": null,
   "metadata": {},
   "outputs": [],
   "source": [
    "print(\"Tractography\")\n",
    "tracking_data = dwi_singleShell_norm\n",
    "fa_threshold = 0.15\n",
    "showDebugOutput = True\n",
    "#useBayesianTracker = True\n",
    "import importlib\n",
    "importlib.reload(tracking) \n",
    "import src.tracking as tracking\n",
    "seedsToUse = wholebrainseeds \n",
    "#seedsToUse = rndseeds \n",
    "#seedsToUse = ccseeds \n",
    "\n",
    "start_time = time.time()\n",
    "streamlines_mlp_simple_sc,vNorms = tracking.startWithStopping(printProgress = True, bayesianModel = useBayesianTracker, fa_threshold = fa_threshold, mask=binarymask,fa=dti_fit.fa, bitracker=useBitracker, inverseDirection=False, seeds=seedsToUse, data=tracking_data, affine=aff, model=tracker, noX=noX, noY=noY, noZ=noZ, dw = noC, stepWidth = 0.6, coordinateScaling = coordinateScaling)\n",
    "runtime = time.time() - start_time\n",
    "print('Runtime ' + str(runtime) + ' s ')\n",
    "\n",
    "start_time = time.time()\n",
    "streamlines_mlp_simple_sc_2,vNorms2 = tracking.startWithStopping(printProgress = True, bayesianModel = useBayesianTracker, fa_threshold = fa_threshold, mask=binarymask,fa=dti_fit.fa, bitracker=useBitracker, inverseDirection=True, seeds=seedsToUse, data=tracking_data, affine=aff, model=tracker, noX=noX, noY=noY, noZ=noZ, dw = noC, stepWidth = 0.6, coordinateScaling = coordinateScaling)\n",
    "runtime = time.time() - start_time\n",
    "print('Runtime ' + str(runtime) + ' s ')\n",
    "\n",
    "# join left and right streamlines\n",
    "print(\"Postprocessing streamlines and removing streamlines shorter than \" + str(minimumStreamlineLength) + \" mm\")\n",
    "streamlines_joined_sc = tracking.joinTwoAlignedStreamlineLists(streamlines_mlp_simple_sc,streamlines_mlp_simple_sc_2)\n",
    "\n",
    "streamlines_joined_sc = dwi_tools.filterStreamlinesByLength(streamlines_joined_sc, minimumStreamlineLength)\n",
    "\n",
    "[metrics.length(streamlines_mlp_simple_sc[0]), metrics.length(streamlines_mlp_simple_sc_2[0])]\n",
    "streamlines_joined_sc = dwi_tools.filterStreamlinesByLength(streamlines_joined_sc, minimumStreamlineLength)\n",
    "streamlines_joined_sc_imageCS = transform_streamlines(streamlines_joined_sc, np.linalg.inv(aff))\n",
    "vNorms_joined_sc = tracking.joinTwoAlignedStreamlineLists(vNorms,vNorms2)\n",
    "dwi_tools.saveVTKstreamlines(streamlines_joined_sc,pResult + '.vtk')"
   ]
  },
  {
   "cell_type": "code",
   "execution_count": null,
   "metadata": {},
   "outputs": [],
   "source": [
    "dwi_tools.saveVTKstreamlines(streamlines_joined_sc,pResult + '.vtk')"
   ]
  },
  {
   "cell_type": "code",
   "execution_count": null,
   "metadata": {},
   "outputs": [],
   "source": [
    "import importlib\n",
    "importlib.reload(tracking) \n",
    "import src.tracking as tracking\n",
    "streamlines_joined_sc = tracking.joinTwoAlignedStreamlineLists(streamlines_mlp_simple_sc,streamlines_mlp_simple_sc_2)"
   ]
  },
  {
   "cell_type": "code",
   "execution_count": null,
   "metadata": {},
   "outputs": [],
   "source": [
    "streamlines_joined_sc[111111]"
   ]
  },
  {
   "cell_type": "code",
   "execution_count": null,
   "metadata": {},
   "outputs": [],
   "source": [
    "streamlines_mlp_simple_sc[111111]"
   ]
  },
  {
   "cell_type": "code",
   "execution_count": null,
   "metadata": {},
   "outputs": [],
   "source": [
    "streamlines_mlp_simple_sc_2[111111]"
   ]
  },
  {
   "cell_type": "code",
   "execution_count": null,
   "metadata": {},
   "outputs": [],
   "source": [
    "streamlines_mlp_simple_sc[0]"
   ]
  },
  {
   "cell_type": "markdown",
   "metadata": {},
   "source": [
    "# Visualize streamlines"
   ]
  },
  {
   "cell_type": "code",
   "execution_count": null,
   "metadata": {},
   "outputs": [],
   "source": [
    "import importlib\n",
    "importlib.reload(dwi_tools) \n",
    "import src.dwi_tools as dwi_tools\n",
    "streamlines = dwi_tools.loadVTKstreamlines('cluster_00001.vtp') # RAS!"
   ]
  },
  {
   "cell_type": "code",
   "execution_count": null,
   "metadata": {},
   "outputs": [],
   "source": [
    "def isFrenetSerretOk(streamline,threshold):\n",
    "    T,N,B,k,t = metrics.frenet_serret(streamline)\n",
    "    return np.max(k) < threshold\n",
    "\n",
    "def filterStreamlinesByOrientation(streamlines, orientationThreshold = 0.3):\n",
    "    #return [x for x in streamlines if np.max(metrics.mean_curvature(x)) < orientationThreshold]\n",
    "    return [x for x in streamlines if isFrenetSerretOk(x,orientationThreshold)]"
   ]
  },
  {
   "cell_type": "code",
   "execution_count": null,
   "metadata": {},
   "outputs": [],
   "source": [
    "sl2 = filterStreamlinesByOrientation(streamlines, 0.3)"
   ]
  },
  {
   "cell_type": "code",
   "execution_count": null,
   "metadata": {},
   "outputs": [],
   "source": [
    "metrics.mean_curvature(streamlines)"
   ]
  },
  {
   "cell_type": "code",
   "execution_count": null,
   "metadata": {},
   "outputs": [],
   "source": [
    "len(sl2)"
   ]
  },
  {
   "cell_type": "code",
   "execution_count": null,
   "metadata": {},
   "outputs": [],
   "source": [
    "dwi_tools.saveVTKstreamlines(sl2,'results/sl2_k03.vtk');"
   ]
  },
  {
   "cell_type": "code",
   "execution_count": null,
   "metadata": {},
   "outputs": [],
   "source": [
    "from dipy.tracking import metrics as tm\n",
    "\n",
    "#[tm.mean_curvature(streamlines_joined_sc_imageCS[0]), tm.mean_orientation(streamlines_joined_sc_imageCS[0])]"
   ]
  },
  {
   "cell_type": "code",
   "execution_count": null,
   "metadata": {},
   "outputs": [],
   "source": [
    "T,N,B,k,t = metrics.frenet_serret(streamlines[100])"
   ]
  },
  {
   "cell_type": "code",
   "execution_count": null,
   "metadata": {},
   "outputs": [],
   "source": [
    "np.max(k)"
   ]
  },
  {
   "cell_type": "code",
   "execution_count": null,
   "metadata": {},
   "outputs": [],
   "source": [
    "idx = 100\n",
    "np.max(( (streamlines_joined_sc[idx][0:-1] - streamlines_joined_sc[idx][1:]) ** 2))"
   ]
  },
  {
   "cell_type": "code",
   "execution_count": null,
   "metadata": {},
   "outputs": [],
   "source": [
    "import importlib\n",
    "importlib.reload(dwi_tools) \n",
    "import src.dwi_tools as dwi_tools\n",
    "dwi_tools.saveVTKstreamlinesWithPointdata(streamlines_joined_sc,pResult + '.vtk',vNorms_joined_sc,2) # hacky, better compute maximum from data"
   ]
  },
  {
   "cell_type": "code",
   "execution_count": null,
   "metadata": {},
   "outputs": [],
   "source": [
    "dwi_tools.visStreamlines(streamlines_joined_sc_imageCS,t1, vol_slice_idx = 75)"
   ]
  },
  {
   "cell_type": "code",
   "execution_count": null,
   "metadata": {},
   "outputs": [],
   "source": [
    "import matplotlib.pyplot as plt\n",
    "plt.plot(vNorms_joined_sc[0])"
   ]
  },
  {
   "cell_type": "code",
   "execution_count": null,
   "metadata": {},
   "outputs": [],
   "source": [
    "plt.plot(streamlines_joined_sc[0])"
   ]
  },
  {
   "cell_type": "code",
   "execution_count": null,
   "metadata": {},
   "outputs": [],
   "source": [
    "import importlib\n",
    "importlib.reload(dwi_tools) \n",
    "import src.dwi_tools as dwi_tools\n",
    "dwi_tools.saveVTKstreamlinesWithPointdata(streamlines_joined_sc,pResult + '-pDropout_0.5.vtk',vNorms_joined_sc,2) # hacky, better compute maximum from data"
   ]
  },
  {
   "cell_type": "code",
   "execution_count": null,
   "metadata": {},
   "outputs": [],
   "source": [
    "dwi_tools.saveVTKstreamlines(streamlines_joined_sc,pResult + '-raw-noDropout.vtk') "
   ]
  },
  {
   "cell_type": "code",
   "execution_count": null,
   "metadata": {},
   "outputs": [],
   "source": []
  },
  {
   "cell_type": "code",
   "execution_count": null,
   "metadata": {},
   "outputs": [],
   "source": [
    "tracker.layers[6].setDropoutEnabled(1)"
   ]
  },
  {
   "cell_type": "code",
   "execution_count": null,
   "metadata": {},
   "outputs": [],
   "source": [
    "tracker.layers[6]._getDropoutEnabled()"
   ]
  },
  {
   "cell_type": "code",
   "execution_count": null,
   "metadata": {},
   "outputs": [],
   "source": [
    "x = np.ones([1,1,1,1,108])\n",
    "y = np.ones([1,3])\n",
    "tracker.predict([x,y])"
   ]
  },
  {
   "cell_type": "code",
   "execution_count": null,
   "metadata": {},
   "outputs": [],
   "source": [
    "tracker.predict([x,y])"
   ]
  },
  {
   "cell_type": "code",
   "execution_count": null,
   "metadata": {},
   "outputs": [],
   "source": [
    "tracker.layers[6].rate"
   ]
  },
  {
   "cell_type": "markdown",
   "metadata": {},
   "source": [
    "--\n",
    "# ISMRM"
   ]
  },
  {
   "cell_type": "code",
   "execution_count": null,
   "metadata": {},
   "outputs": [],
   "source": [
    "import time\n",
    "import nrrd\n",
    "import nibabel as nb\n",
    "import numpy as np\n",
    "import matplotlib.pyplot as plt\n",
    "import h5py\n",
    "\n",
    "from dipy.tracking.local import LocalTracking, ThresholdTissueClassifier\n",
    "from dipy.tracking.utils import random_seeds_from_mask\n",
    "from dipy.reconst.dti import TensorModel\n",
    "from dipy.reconst.csdeconv import (ConstrainedSphericalDeconvModel,\n",
    "                                   auto_response)\n",
    "from dipy.reconst.shm import CsaOdfModel\n",
    "from dipy.data import default_sphere\n",
    "from dipy.direction import peaks_from_model\n",
    "from dipy.data import fetch_stanford_hardi, read_stanford_hardi, get_sphere\n",
    "from dipy.segment.mask import median_otsu\n",
    "from dipy.viz import actor, window\n",
    "from dipy.io.image import save_nifti\n",
    "from dipy.io import read_bvals_bvecs\n",
    "from dipy.core import gradients\n",
    "from dipy.tracking.streamline import Streamlines\n",
    "from dipy.io import read_bvals_bvecs\n",
    "from dipy.core.gradients import gradient_table, gradient_table_from_bvals_bvecs\n",
    "from dipy.reconst.dti import fractional_anisotropy\n",
    "import dipy.reconst.dti as dti\n",
    "from dipy.tracking import utils\n",
    "\n",
    "import src.dwi_tools as dwi_tools\n",
    "import src.nn_helper as nn_helper\n",
    "import src.tracking as tracking\n",
    "\n",
    "from dipy.tracking.streamline import values_from_volume\n",
    "import dipy.align.vector_fields as vfu\n",
    "from dipy.core.sphere import Sphere\n",
    "from dipy.core import subdivide_octahedron \n",
    "from scipy.spatial import KDTree\n",
    "from dipy.core import subdivide_octahedron \n",
    "\n",
    "from dipy.tracking.local import LocalTracking\n",
    "from dipy.viz import window, actor\n",
    "from dipy.viz.colormap import line_colors\n",
    "from dipy.tracking.streamline import Streamlines, transform_streamlines\n",
    "from dipy.tracking import metrics\n",
    "from dipy.tracking.utils import random_seeds_from_mask, seeds_from_mask\n",
    "\n",
    "import numpy as np\n",
    "import warnings\n",
    "\n",
    "import tensorflow as tf\n",
    "from joblib import Parallel, delayed\n",
    "import multiprocessing\n",
    "from keras.models import load_model\n",
    "from keras.layers import Activation\n",
    "\n",
    "import importlib\n",
    "importlib.reload(tracking)\n",
    "importlib.reload(nn_helper)\n",
    "import src.tracking as tracking\n",
    "import tensorflow as tf\n",
    "from src.nn_helper import swish, squared_cosine_proximity_2\n",
    "from src.SelectiveDropout import SelectiveDropout\n",
    "import os \n",
    "import warnings\n",
    "\n",
    "fa_threshold = 0.15\n",
    "#fa_threshold = 0.2\n",
    "sh_order = 8\n",
    "b_value = 1000\n",
    "minimumStreamlineLength = 40 # mm\n",
    "### maximum lengths?\n",
    "stepWidth = 1.0 # mm\n",
    "noTrackingSteps = 200\n",
    "\n",
    "coordinateScaling = 1\n",
    "useDTIPeakDirection = True\n",
    "useSphericalHarmonics = True\n",
    "usePreviousDirection = True\n",
    "useBayesianTracker = False\n",
    "use2DProjection = False\n",
    "useDenoising = False\n",
    "\n",
    "pCaseID = 'ISMRM_2015_Tracto_challenge_data'\n",
    "#pCaseID = 'ISMRM_2015_Tracto_challenge_ground_truth_dwi_v2'\n",
    "\n",
    "pModel = 'results/train_sh8_noB0InSH_step0.6_wholeBrain_b1000_2_csd_ismrm_1x1x1_noUnitTension/models/V3_mlp_single_2_sqCos2_dx_1_dy_1_dz_1_dd_45_ReLU_feat_512_depth_3_output_3_lr_0.0001_dropout_1_bn_0_pt_0_unitTension_0-zvFix2_122--0.971016.h5'\n",
    "\n",
    "pModel = 'results/train_sh8_noB0InSH_step0.6_wholeBrain_b1000_2_csd_ismrm_1x1x1_noUnitTension/models/V3_mlp_doubleIn_single_sqCos2_dx_1_dy_1_dz_1_dd_45_ReLU_feat_512_depth_3_output_3_lr_0.0001_dropout_1_bn_0_pt_0_unitTension_0-zvFix2_117--0.995002.h5'\n",
    "\n",
    "pResult = \"results_tracking/sw1_\" + pCaseID + pModel.replace('.h5','').replace('/models/','/').replace('results','') + '-denoising-' + str(useDenoising) + '-' + str(noTrackingSteps) + 'st-fa-' + str(fa_threshold)\n",
    "\n",
    "tracker = load_model(pModel , custom_objects={'tf':tf, 'swish':Activation(swish), 'SelectiveDropout': SelectiveDropout, 'squared_cosine_proximity_2': squared_cosine_proximity_2})\n",
    "\n",
    "os.makedirs(pResult, exist_ok=True)\n",
    "\n",
    "tracker.summary()\n",
    "\n",
    "if(pModel.find(\"mlp_single\")>0):\n",
    "    usePreviousDirection = False\n",
    "\n",
    "if(pModel.find(\"cnn_special\")>0):\n",
    "    use2DProjection = True\n",
    "    useSphericalHarmonics = False\n",
    "    noC = 1\n",
    "    noSamples, noX, noY, noZ = tracker.get_input_shape_at(0)[0]\n",
    "elif(usePreviousDirection): \n",
    "    noSamples, noX, noY, noZ, noC = tracker.get_input_shape_at(0)[0]\n",
    "else: \n",
    "    noSamples, noX, noY, noZ, noC = tracker.get_input_shape_at(0)\n",
    "\n",
    "print('Loaded model with  (dx %d, dy %d, dz %d) and %d channels' % (noX, noY, noZ, noC))\n",
    "\n",
    "# load DWI data\n",
    "print('Loading dataset %s at b=%d' % (pCaseID, b_value))\n",
    "bvals,bvecs,gtab,dwi,aff,t1 = dwi_tools.loadISMRMData('data/%s' % (pCaseID), denoiseData = useDenoising, resliceToHCPDimensions=True)\n",
    "b0_mask, binarymask = median_otsu(dwi[:,:,:,0], 2, 1)\n",
    "\n",
    "# crop DWI data\n",
    "dwi_subset, gtab_subset, bvals_subset, bvecs_subset = dwi_tools.cropDatsetToBValue(b_value, bvals, bvecs, dwi)\n",
    "b0_idx = bvals < 10\n",
    "b0 = dwi[..., b0_idx].mean(axis=3)\n",
    "\n",
    "if(useSphericalHarmonics):\n",
    "    print('Spherical Harmonics (ours)')\n",
    "    start_time = time.time()\n",
    "    tracking_data = dwi_tools.get_spherical_harmonics_coefficients(bvals=bvals_subset,bvecs=bvecs_subset,sh_order=sh_order, dwi=dwi_subset, b0 = b0)\n",
    "    runtime = time.time() - start_time\n",
    "    print('Runtime ' + str(runtime) + 's')\n",
    "\n",
    "if(use2DProjection):\n",
    "    print('2D projection')\n",
    "    start_time = time.time()\n",
    "    tracking_data, resamplingSphere = dwi_tools.resample_dwi_forunet(dwi_subset, b0, bvals_subset, bvecs_subset, sh_order=8, smooth=0, mean_centering=False)\n",
    "    runtime = time.time() - start_time\n",
    "    print('Runtime ' + str(runtime) + 's')\n",
    "\n",
    "\n",
    "print('DTI Peak Direction/odf estimation')   \n",
    "dwi_singleShell = np.concatenate((dwi_subset, dwi[..., b0_idx]), axis=3)\n",
    "bvals_singleShell = np.concatenate((bvals_subset, bvals[..., b0_idx]), axis=0)\n",
    "bvecs_singleShell = np.concatenate((bvecs_subset, bvecs[b0_idx,]), axis=0)\n",
    "gtab_singleShell = gradient_table(bvals=bvals_singleShell, bvecs=bvecs_singleShell, b0_threshold = 10)\n",
    "\n",
    "start_time = time.time()\n",
    "dti_model = dti.TensorModel(gtab_singleShell, fit_method='LS')\n",
    "dti_fit = dti_model.fit(dwi_singleShell)\n",
    "runtime = time.time() - start_time\n",
    "print('Runtime ' + str(runtime) + 's')\n",
    "\n",
    "\n",
    "# whole brain seeds\n",
    "wholebrainseeds = seeds_from_mask(binarymask, affine=aff)\n",
    "\n",
    "print(\"Tractography\")\n",
    "seedsToUse = wholebrainseeds \n",
    "\n",
    "warnings.filterwarnings(\"ignore\")"
   ]
  },
  {
   "cell_type": "code",
   "execution_count": null,
   "metadata": {},
   "outputs": [],
   "source": [
    "noTrackingSteps = 5"
   ]
  },
  {
   "cell_type": "code",
   "execution_count": null,
   "metadata": {},
   "outputs": [],
   "source": [
    "importlib.reload(tracking)\n",
    "warnings.filterwarnings(\"ignore\")\n",
    "start_time = time.time()\n",
    "streamlines_joined_sc,vNorms,slf,slb = tracking.startWithStopping__(printfProfiling = False, printProgress = True, fa_threshold = fa_threshold, mask=binarymask,fa=dti_fit.fa, inverseDirection=False, seeds=seedsToUse, data=tracking_data, affine=aff, model=tracker, noX=noX, noY=noY, noZ=noZ, dw = noC, stepWidth = stepWidth, coordinateScaling = coordinateScaling, noIterations = noTrackingSteps, usePreviousDirection=usePreviousDirection)\n",
    "runtime = time.time() - start_time\n",
    "print('Runtime ' + str(runtime) + ' s ')"
   ]
  },
  {
   "cell_type": "code",
   "execution_count": null,
   "metadata": {},
   "outputs": [],
   "source": [
    "len(slf)"
   ]
  },
  {
   "cell_type": "code",
   "execution_count": null,
   "metadata": {},
   "outputs": [],
   "source": [
    "len(slb)"
   ]
  },
  {
   "cell_type": "code",
   "execution_count": null,
   "metadata": {},
   "outputs": [],
   "source": [
    "slf[0]"
   ]
  },
  {
   "cell_type": "code",
   "execution_count": null,
   "metadata": {},
   "outputs": [],
   "source": [
    "slb[0]"
   ]
  },
  {
   "cell_type": "code",
   "execution_count": null,
   "metadata": {},
   "outputs": [],
   "source": [
    "streamlines_joined_sc[0]"
   ]
  },
  {
   "cell_type": "code",
   "execution_count": null,
   "metadata": {},
   "outputs": [],
   "source": []
  }
 ],
 "metadata": {
  "kernelspec": {
   "display_name": "Python 3",
   "language": "python",
   "name": "python3"
  },
  "language_info": {
   "codemirror_mode": {
    "name": "ipython",
    "version": 3
   },
   "file_extension": ".py",
   "mimetype": "text/x-python",
   "name": "python",
   "nbconvert_exporter": "python",
   "pygments_lexer": "ipython3",
   "version": "3.6.5"
  }
 },
 "nbformat": 4,
 "nbformat_minor": 2
}
