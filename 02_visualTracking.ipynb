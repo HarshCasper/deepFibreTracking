{
 "cells": [
  {
   "cell_type": "code",
   "execution_count": 118,
   "metadata": {},
   "outputs": [],
   "source": [
    "import time\n",
    "import nrrd\n",
    "import nibabel as nb\n",
    "import numpy as np\n",
    "import matplotlib.pyplot as plt\n",
    "import h5py\n",
    "\n",
    "from dipy.tracking.local import LocalTracking, ThresholdTissueClassifier\n",
    "from dipy.tracking.utils import random_seeds_from_mask\n",
    "from dipy.reconst.dti import TensorModel\n",
    "from dipy.reconst.csdeconv import (ConstrainedSphericalDeconvModel,\n",
    "                                   auto_response)\n",
    "from dipy.reconst.shm import CsaOdfModel\n",
    "from dipy.data import default_sphere\n",
    "from dipy.direction import peaks_from_model\n",
    "from dipy.data import fetch_stanford_hardi, read_stanford_hardi, get_sphere\n",
    "from dipy.segment.mask import median_otsu\n",
    "from dipy.viz import actor, window\n",
    "from dipy.io.image import save_nifti\n",
    "from dipy.io import read_bvals_bvecs\n",
    "from dipy.core import gradients\n",
    "from dipy.tracking.streamline import Streamlines\n",
    "from dipy.io import read_bvals_bvecs\n",
    "from dipy.core.gradients import gradient_table, gradient_table_from_bvals_bvecs\n",
    "from dipy.reconst.dti import fractional_anisotropy\n",
    "\n",
    "from dipy.tracking import utils\n",
    "\n",
    "import src.dwi_tools as dwi_tools\n",
    "import src.nn_helper as nn_helper\n",
    "import src.tracking as tracking\n",
    "\n",
    "from dipy.tracking.streamline import values_from_volume\n",
    "import dipy.align.vector_fields as vfu\n",
    "from dipy.core.sphere import Sphere\n",
    "from dipy.core import subdivide_octahedron \n",
    "from scipy.spatial import KDTree\n",
    "from dipy.core import subdivide_octahedron \n",
    "\n",
    "from dipy.tracking.local import LocalTracking\n",
    "from dipy.viz import window, actor\n",
    "from dipy.viz.colormap import line_colors\n",
    "from dipy.tracking.streamline import Streamlines, transform_streamlines\n",
    "from dipy.tracking import metrics\n",
    "from dipy.tracking.utils import random_seeds_from_mask, seeds_from_mask\n",
    "\n",
    "import numpy as np\n",
    "import warnings\n",
    "\n",
    "import tensorflow as tf\n",
    "from joblib import Parallel, delayed\n",
    "import multiprocessing\n",
    "from keras.models import load_model\n",
    "from keras.layers import Activation\n",
    "\n",
    "import importlib\n",
    "importlib.reload(tracking)\n",
    "importlib.reload(nn_helper)\n",
    "import src.tracking as tracking\n",
    "import tensorflow as tf\n",
    "from src.nn_helper import swish, squared_cosine_proximity, squared_cosine_proximity_2"
   ]
  },
  {
   "cell_type": "code",
   "execution_count": 2,
   "metadata": {},
   "outputs": [
    {
     "name": "stdout",
     "output_type": "stream",
     "text": [
      "/home/nico/Code/deepFibreTracking/100307\n",
      "/home/nico/Code/deepFibreTracking\n"
     ]
    }
   ],
   "source": [
    "import os\n",
    "print(os.getcwd())\n",
    "os.chdir('..')\n",
    "print(os.getcwd())"
   ]
  },
  {
   "cell_type": "markdown",
   "metadata": {},
   "source": [
    "# Multi (DWI,PrevTension) -> Tension tracker"
   ]
  },
  {
   "cell_type": "code",
   "execution_count": 350,
   "metadata": {},
   "outputs": [],
   "source": [
    "pModel = 'results/102218_train_OLDsh4_step10_wholeBrain_b1k_1x1/models/mlp_doubleIn_single_sqCos2_wb_dx_1_dy_1_dz_1_dd_15_ReLU_feat_512_depth_3_output_3_lr_0.0001_dropout_1_bn_1_pt_0_4172--0.974801.h5'\n",
    "pResult = pModel.replace('.h5','').replace('/models/','_') + '-prediction'"
   ]
  },
  {
   "cell_type": "code",
   "execution_count": 351,
   "metadata": {},
   "outputs": [
    {
     "name": "stdout",
     "output_type": "stream",
     "text": [
      "__________________________________________________________________________________________________\n",
      "Layer (type)                    Output Shape         Param #     Connected to                     \n",
      "==================================================================================================\n",
      "input_1 (InputLayer)            (None, 1, 1, 1, 15)  0                                            \n",
      "__________________________________________________________________________________________________\n",
      "flatten_1 (Flatten)             (None, 15)           0           input_1[0][0]                    \n",
      "__________________________________________________________________________________________________\n",
      "input_2 (InputLayer)            (None, 3)            0                                            \n",
      "__________________________________________________________________________________________________\n",
      "concatenate_1 (Concatenate)     (None, 18)           0           flatten_1[0][0]                  \n",
      "                                                                 input_2[0][0]                    \n",
      "__________________________________________________________________________________________________\n",
      "dense_1 (Dense)                 (None, 512)          9728        concatenate_1[0][0]              \n",
      "__________________________________________________________________________________________________\n",
      "batch_normalization_1 (BatchNor (None, 512)          2048        dense_1[0][0]                    \n",
      "__________________________________________________________________________________________________\n",
      "re_lu_1 (ReLU)                  (None, 512)          0           batch_normalization_1[0][0]      \n",
      "                                                                 batch_normalization_2[0][0]      \n",
      "                                                                 batch_normalization_3[0][0]      \n",
      "__________________________________________________________________________________________________\n",
      "dropout_1 (Dropout)             (None, 512)          0           re_lu_1[0][0]                    \n",
      "__________________________________________________________________________________________________\n",
      "dense_2 (Dense)                 (None, 512)          262656      dropout_1[0][0]                  \n",
      "__________________________________________________________________________________________________\n",
      "batch_normalization_2 (BatchNor (None, 512)          2048        dense_2[0][0]                    \n",
      "__________________________________________________________________________________________________\n",
      "dropout_2 (Dropout)             (None, 512)          0           re_lu_1[1][0]                    \n",
      "__________________________________________________________________________________________________\n",
      "dense_3 (Dense)                 (None, 512)          262656      dropout_2[0][0]                  \n",
      "__________________________________________________________________________________________________\n",
      "batch_normalization_3 (BatchNor (None, 512)          2048        dense_3[0][0]                    \n",
      "__________________________________________________________________________________________________\n",
      "dropout_3 (Dropout)             (None, 512)          0           re_lu_1[2][0]                    \n",
      "__________________________________________________________________________________________________\n",
      "dense_4 (Dense)                 (None, 3)            1539        dropout_3[0][0]                  \n",
      "__________________________________________________________________________________________________\n",
      "nextDirection (Lambda)          (None, 3)            0           dense_4[0][0]                    \n",
      "==================================================================================================\n",
      "Total params: 542,723\n",
      "Trainable params: 539,651\n",
      "Non-trainable params: 3,072\n",
      "__________________________________________________________________________________________________\n"
     ]
    }
   ],
   "source": [
    "tracker = load_model(pModel , custom_objects={'tf':tf, 'swish':Activation(swish), 'squared_cosine_proximity': squared_cosine_proximity, 'squared_cosine_proximity_2': squared_cosine_proximity_2})\n",
    "noSamples, noX, noY, noZ, noC = tracker.get_input_shape_at(0)[0]\n",
    "tracker.summary()"
   ]
  },
  {
   "cell_type": "code",
   "execution_count": 6,
   "metadata": {},
   "outputs": [
    {
     "name": "stdout",
     "output_type": "stream",
     "text": [
      "Loaded model with  (dx 1, dy 1, dz 1) and 15 channels\n",
      "Importing HCP data\n",
      "Spherical Harmonics\n",
      "Percentage erroneous voxels: 4.07\n"
     ]
    },
    {
     "name": "stderr",
     "output_type": "stream",
     "text": [
      "/home/nico/Code/deepFibreTracking/src/dwi_tools.py:85: RuntimeWarning: divide by zero encountered in true_divide\n",
      "  weights_normed = (weights / b0)\n",
      "/home/nico/Code/deepFibreTracking/src/dwi_tools.py:85: RuntimeWarning: invalid value encountered in true_divide\n",
      "  weights_normed = (weights / b0)\n"
     ]
    },
    {
     "name": "stdout",
     "output_type": "stream",
     "text": [
      "DTI Peak Direction/odf estimation\n",
      "Runtime 827.2817482948303s\n"
     ]
    }
   ],
   "source": [
    "coordinateScaling = 1\n",
    "useDTIPeakDirection = True\n",
    "useSphericalHarmonics = False\n",
    "print('Loaded model with  (dx %d, dy %d, dz %d) and %d channels' % (noX, noY, noZ, noC))\n",
    "\n",
    "if(noC == 3):\n",
    "    useDTIPeakDirection = True\n",
    "    \n",
    "if(noC == 15):\n",
    "    useSphericalHarmonics = True\n",
    "    sh_order = 4\n",
    "elif(noC == 45):\n",
    "    useSphericalHarmonics = True\n",
    "    sh_order = 8\n",
    "\n",
    "# load DWI data\n",
    "print('Importing HCP data')\n",
    "bvals,bvecs,gtab,dwi,aff,t1,binarymask = dwi_tools.loadHCPData('100307')\n",
    "dwi_subset, gtab_subset, bvals_subset, bvecs_subset = dwi_tools.cropDatsetToBValue(1000, bvals, bvecs, dwi)\n",
    "b0_idx = bvals < 10\n",
    "b0 = dwi[..., b0_idx].mean(axis=3)\n",
    "\n",
    "dwi_singleShell = np.concatenate((dwi_subset, dwi[..., b0_idx]), axis=3)\n",
    "bvals_singleShell = np.concatenate((bvals_subset, bvals[..., b0_idx]), axis=0)\n",
    "bvecs_singleShell = np.concatenate((bvecs_subset, bvecs[b0_idx,]), axis=0)\n",
    "gtab_singleShell = gradient_table(bvals=bvals_singleShell, bvecs=bvecs_singleShell, b0_threshold = 10)\n",
    "\n",
    "tracking_data = dwi_singleShell\n",
    "\n",
    "### estimate tensors\n",
    "#print('fitting single tensor model (OLS)')\n",
    "#import dipy.reconst.dti as dti\n",
    "#start_time = time.time()\n",
    "#dti_wls = dti.TensorModel(gtab_subset, fit_method='LS')\n",
    "#fit_wls = dti_wls.fit(dwi_subset)\n",
    "#tensors = fit_wls.quadratic_form\n",
    "#tensors = tensors.reshape( (tensors.shape[:-2] + (-1,) ) )\n",
    "#runtime = time.time() - start_time\n",
    "#print('-> runtime ' + str(runtime) + 's\\n')\n",
    "\n",
    "### exract the averaged b0.\n",
    "\n",
    "if(useSphericalHarmonics):\n",
    "    print('Spherical Harmonics')\n",
    "    dwi_singleShell_norm = dwi_tools.normalize_dwi(dwi_singleShell, b0)\n",
    "    \n",
    "    csd_model = ConstrainedSphericalDeconvModel(gtab_singleShell, None, sh_order=sh_order)\n",
    "    csd_fit = csd_model.fit(dwi_singleShell_norm, mask=binarymask)\n",
    "    \n",
    "    tracking_data = csd_fit.shm_coeff\n",
    "\n",
    "## normalize DWI by b0\n",
    "#print('\\n normalizing dwi dataset')\n",
    "#dwi_subset_normalized = dwi_tools.normalize_dwi(dwi_subset, b0)\n",
    "\n",
    "# corpus callosum seed mask\n",
    "ccmask, options = nrrd.read('100307/100307-ccSegmentation.nrrd')\n",
    "ccseeds = seeds_from_mask(ccmask, affine=aff)\n",
    "seeds_ras = ccseeds[45:48]\n",
    "\n",
    "# load reference streamlines\n",
    "streamlines_val = np.load('streamlines_validation.npy')\n",
    "\n",
    "# project seeds into image coordinate system\n",
    "#aff_ras_ijk = np.linalg.inv(aff) # aff: IJK -> RAS\n",
    "#M = aff_ras_ijk[:3, :3]\n",
    "#abc = aff_ras_ijk[:3, 3]\n",
    "#abc = abc[:,None]\n",
    "#seeds_ijk = (M.dot(seeds_ras.T) + abc).T\n",
    "\n",
    "\n",
    "# DTI PEAK DIRECTION INPUT\n",
    "if(useDTIPeakDirection):\n",
    "    print('DTI Peak Direction/odf estimation')\n",
    "    import dipy.reconst.dti as dti\n",
    "    start_time = time.time()\n",
    "    dti_model = dti.TensorModel(gtab_singleShell)#, fit_method='WLS')\n",
    "    dti_fit = dti_model.fit(dwi_singleShell)\n",
    "    dti_fit_odf = dti_fit.odf(sphere = default_sphere)\n",
    "    runtime = time.time() - start_time\n",
    "    print('Runtime ' + str(runtime) + 's')\n",
    "\n",
    "    #TODO: not necessary in the future, replace with own function\n",
    "    #sphere = get_sphere('symmetric724')\n",
    "    #start_time = time.time()\n",
    "    #dtipeaks = peaks_from_model(model=dti_model,\n",
    "    #                    data=dwi_singleShell_norm,\n",
    "    #                    sphere=sphere,\n",
    "    #                    relative_peak_threshold=.5,\n",
    "    #                    min_separation_angle=25,\n",
    "    #                    mask=binarymask,\n",
    "    #                    return_odf=False,\n",
    "    #                    parallel=False,\n",
    "    #                    normalize_peaks=False,\n",
    "    #                    npeaks=5\n",
    "    #                   )\n",
    "    #runtime = time.time() - start_time\n",
    "    #print('Runtime ' + str(runtime) + 's')\n",
    "    #dtiPeakDirs = dtipeaks.peak_dirs[:,:,:,0,:]\n",
    "    #tracking_data = dtiPeakDirs\n",
    "    \n",
    "# select appropriate dataset\n",
    "#\n",
    "#tracking_data = data_sh\n",
    "#tracking_data = tensors"
   ]
  },
  {
   "cell_type": "code",
   "execution_count": 7,
   "metadata": {},
   "outputs": [
    {
     "name": "stdout",
     "output_type": "stream",
     "text": [
      "Percentage erroneous voxels: 4.07\n"
     ]
    },
    {
     "name": "stderr",
     "output_type": "stream",
     "text": [
      "/home/nico/Code/deepFibreTracking/src/dwi_tools.py:85: RuntimeWarning: divide by zero encountered in true_divide\n",
      "  weights_normed = (weights / b0)\n",
      "/home/nico/Code/deepFibreTracking/src/dwi_tools.py:85: RuntimeWarning: invalid value encountered in true_divide\n",
      "  weights_normed = (weights / b0)\n"
     ]
    }
   ],
   "source": [
    "dwi_singleShell_norm = dwi_tools.normalize_dwi(dwi_singleShell, b0)\n",
    "data_sh = dwi_tools.get_spherical_harmonics_coefficients(bvals=bvals_singleShell,bvecs=bvecs_singleShell,sh_order=4, dwi=dwi_singleShell_norm, b0 = 0)"
   ]
  },
  {
   "cell_type": "code",
   "execution_count": 358,
   "metadata": {},
   "outputs": [],
   "source": [
    "wholebrainseeds = seeds_from_mask(binarymask, affine=aff)"
   ]
  },
  {
   "cell_type": "code",
   "execution_count": 25,
   "metadata": {},
   "outputs": [],
   "source": [
    "seeds_ras = ccseeds\n",
    "tracking_data = data_sh\n",
    "stepWidth = 0.6"
   ]
  },
  {
   "cell_type": "code",
   "execution_count": 352,
   "metadata": {},
   "outputs": [
    {
     "name": "stderr",
     "output_type": "stream",
     "text": [
      "/home/nico/Code/deepFibreTracking/src/tracking.py:161: RuntimeWarning: invalid value encountered in true_divide\n",
      "  if(bitracker):\n",
      "/home/nico/Code/deepFibreTracking/src/tracking.py:182: RuntimeWarning: invalid value encountered in double_scalars\n",
      "  lv1 = predictedDirection[j,]\n",
      "/home/nico/Code/deepFibreTracking/src/tracking.py:182: RuntimeWarning: invalid value encountered in arcsin\n",
      "  lv1 = predictedDirection[j,]\n"
     ]
    },
    {
     "name": "stdout",
     "output_type": "stream",
     "text": [
      "Runtime 72.91352319717407 s \n",
      "Runtime 71.7975423336029 s \n",
      "0/1343\n",
      "1000/1343\n",
      "Wrote streamlines to results/102218_train_OLDsh4_step10_wholeBrain_b1k_1x1_mlp_doubleIn_single_sqCos2_wb_dx_1_dy_1_dz_1_dd_15_ReLU_feat_512_depth_3_output_3_lr_0.0001_dropout_1_bn_1_pt_0_4172--0.974801-prediction.vtk\n"
     ]
    },
    {
     "name": "stderr",
     "output_type": "stream",
     "text": [
      "/home/nico/anaconda3/lib/python3.6/site-packages/vtk/util/numpy_support.py:137: FutureWarning: Conversion of the second argument of issubdtype from `complex` to `np.complexfloating` is deprecated. In future, it will be treated as `np.complex128 == np.dtype(complex).type`.\n",
      "  assert not numpy.issubdtype(z.dtype, complex), \\\n"
     ]
    }
   ],
   "source": [
    "importlib.reload(tracking)\n",
    "import src.tracking as tracking\n",
    "# do tracking\n",
    "start_time = time.time()\n",
    "streamlines_mlp_simple,vNorms = tracking.start(bitracker=True, inverseDirection=False, seeds=seeds_ras,data=tracking_data, affine=aff, model=tracker, noX=noX, noY=noY, noZ=noZ, dw = noC, stepWidth = stepWidth, coordinateScaling = coordinateScaling)\n",
    "runtime = time.time() - start_time\n",
    "print('Runtime ' + str(runtime) + ' s ')\n",
    "\n",
    "start_time = time.time()\n",
    "streamlines_mlp_simple_2,vNorms2 = tracking.start(bitracker=True, inverseDirection=True,seeds=seeds_ras,data=tracking_data, affine=aff, model=tracker, noX=noX, noY=noY, noZ=noZ, dw = noC, stepWidth = stepWidth, coordinateScaling = coordinateScaling)\n",
    "runtime = time.time() - start_time\n",
    "print('Runtime ' + str(runtime) + ' s ')\n",
    "\n",
    "# visualize results\n",
    "streamlines_mlp_simple_f = np.fliplr(streamlines_mlp_simple)\n",
    "streamlines_joined = np.concatenate([streamlines_mlp_simple_f,streamlines_mlp_simple_2],axis=1)    \n",
    "\n",
    "streamlines_joined_imageCS = transform_streamlines(streamlines_joined, np.linalg.inv(aff))\n",
    "\n",
    "np.save(pResult + '-ijk.vtk', streamlines_joined_imageCS)\n",
    "np.save(pResult + '-ras.vtk', streamlines_joined)\n",
    "dwi_tools.saveVTKstreamlines(streamlines_joined,pResult + '.vtk')\n",
    "\n",
    "dwi_tools.visStreamlines(streamlines_joined_imageCS,t1, vol_slice_idx = 75)"
   ]
  },
  {
   "cell_type": "code",
   "execution_count": 76,
   "metadata": {},
   "outputs": [],
   "source": [
    "from dipy.tracking.streamline import set_number_of_points, Streamlines\n",
    "sl_est_2 = set_number_of_points(Streamlines(streamlines_joined_imageCS), nb_points = 20)\n",
    "sl_val_2 = set_number_of_points(Streamlines(streamlines_val.tolist()), nb_points = 20)"
   ]
  },
  {
   "cell_type": "code",
   "execution_count": 77,
   "metadata": {},
   "outputs": [],
   "source": [
    "from dipy.segment.metric import SumPointwiseEuclideanMetric\n",
    "from dipy.segment import quickbundles\n",
    "\n",
    "dist = quickbundles.bundles_distances_mdf(sl_est_2, sl_val_2)"
   ]
  },
  {
   "cell_type": "code",
   "execution_count": 97,
   "metadata": {},
   "outputs": [],
   "source": [
    "dist_minIdx = np.argmin(dist, axis = 1)"
   ]
  },
  {
   "cell_type": "markdown",
   "metadata": {},
   "source": [
    "---"
   ]
  },
  {
   "cell_type": "markdown",
   "metadata": {},
   "source": [
    "# Single DWI -> TENSION tracker"
   ]
  },
  {
   "cell_type": "code",
   "execution_count": 353,
   "metadata": {},
   "outputs": [],
   "source": [
    "#pModel = 'results/102218_train_OLDsh4_step10_wholeBrain_b1k_1x1/models/mlp_single_mse_wb_dx_1_dy_1_dz_1_dd_15_ReLU_feat_512_depth_3_output_3_lr_0.0001_dropout_1_bn_1_pt_0_950-0.489318.h5'\n",
    "\n",
    "#pModel = 'results/102218_train_OLDsh4_step10_wholeBrain_b1k_1x1/models/mlp_single_cos_wb_dx_1_dy_1_dz_1_dd_15_ReLU_feat_512_depth_3_output_3_lr_0.0001_dropout_1_bn_1_pt_0_1173--0.263056.h5'\n",
    "\n",
    "pModel = 'results/102218_train_OLDsh4_step10_wholeBrain_b1k_1x1/models/mlp_single_sqCos2_wb_dx_1_dy_1_dz_1_dd_15_ReLU_feat_512_depth_3_output_3_lr_0.0001_dropout_1_bn_1_pt_0_7217--0.968468.h5'\n",
    "\n",
    "pModel = 'results/train_OLDsh4_step0.1_wholeBrain_b1k_1x1x1_step10/models/mlp_single_sqCos2_wb_dx_1_dy_1_dz_1_dd_15_ReLU_feat_512_depth_3_output_3_lr_0.0001_dropout_1_bn_1_pt_0_6691--0.990052.h5'\n",
    "\n",
    "pResult = pModel.replace('.h5','').replace('/models/','_') + '-prediction'"
   ]
  },
  {
   "cell_type": "code",
   "execution_count": 354,
   "metadata": {},
   "outputs": [
    {
     "name": "stdout",
     "output_type": "stream",
     "text": [
      "__________________________________________________________________________________________________\n",
      "Layer (type)                    Output Shape         Param #     Connected to                     \n",
      "==================================================================================================\n",
      "input_1 (InputLayer)            (None, 1, 1, 1, 15)  0                                            \n",
      "__________________________________________________________________________________________________\n",
      "flatten_1 (Flatten)             (None, 15)           0           input_1[0][0]                    \n",
      "__________________________________________________________________________________________________\n",
      "dense_1 (Dense)                 (None, 512)          8192        flatten_1[0][0]                  \n",
      "__________________________________________________________________________________________________\n",
      "batch_normalization_1 (BatchNor (None, 512)          2048        dense_1[0][0]                    \n",
      "__________________________________________________________________________________________________\n",
      "re_lu_1 (ReLU)                  (None, 512)          0           batch_normalization_1[0][0]      \n",
      "                                                                 batch_normalization_2[0][0]      \n",
      "                                                                 batch_normalization_3[0][0]      \n",
      "__________________________________________________________________________________________________\n",
      "dropout_1 (Dropout)             (None, 512)          0           re_lu_1[0][0]                    \n",
      "__________________________________________________________________________________________________\n",
      "dense_2 (Dense)                 (None, 512)          262656      dropout_1[0][0]                  \n",
      "__________________________________________________________________________________________________\n",
      "batch_normalization_2 (BatchNor (None, 512)          2048        dense_2[0][0]                    \n",
      "__________________________________________________________________________________________________\n",
      "dropout_2 (Dropout)             (None, 512)          0           re_lu_1[1][0]                    \n",
      "__________________________________________________________________________________________________\n",
      "dense_3 (Dense)                 (None, 512)          262656      dropout_2[0][0]                  \n",
      "__________________________________________________________________________________________________\n",
      "batch_normalization_3 (BatchNor (None, 512)          2048        dense_3[0][0]                    \n",
      "__________________________________________________________________________________________________\n",
      "dropout_3 (Dropout)             (None, 512)          0           re_lu_1[2][0]                    \n",
      "__________________________________________________________________________________________________\n",
      "dense_4 (Dense)                 (None, 3)            1539        dropout_3[0][0]                  \n",
      "__________________________________________________________________________________________________\n",
      "nextDirection (Lambda)          (None, 3)            0           dense_4[0][0]                    \n",
      "==================================================================================================\n",
      "Total params: 541,187\n",
      "Trainable params: 538,115\n",
      "Non-trainable params: 3,072\n",
      "__________________________________________________________________________________________________\n"
     ]
    }
   ],
   "source": [
    "tracker = load_model(pModel , custom_objects={'tf':tf, 'swish':Activation(swish), 'squared_cosine_proximity': squared_cosine_proximity, 'squared_cosine_proximity_2': squared_cosine_proximity_2})\n",
    "noSamples, noX, noY, noZ, noC = tracker.get_input_shape_at(0)\n",
    "tracker.summary()"
   ]
  },
  {
   "cell_type": "code",
   "execution_count": null,
   "metadata": {},
   "outputs": [
    {
     "name": "stderr",
     "output_type": "stream",
     "text": [
      "/home/nico/Code/deepFibreTracking/src/tracking.py:161: RuntimeWarning: divide by zero encountered in true_divide\n",
      "  if(bitracker):\n",
      "/home/nico/Code/deepFibreTracking/src/tracking.py:161: RuntimeWarning: invalid value encountered in true_divide\n",
      "  if(bitracker):\n",
      "/home/nico/Code/deepFibreTracking/src/tracking.py:182: RuntimeWarning: invalid value encountered in double_scalars\n",
      "  lv1 = predictedDirection[j,]\n",
      "/home/nico/Code/deepFibreTracking/src/tracking.py:182: RuntimeWarning: invalid value encountered in arcsin\n",
      "  lv1 = predictedDirection[j,]\n"
     ]
    }
   ],
   "source": [
    "# do tracking (wholebrainseeds, ccseeds)\n",
    "importlib.reload(tracking)\n",
    "import src.tracking as tracking\n",
    "start_time = time.time()\n",
    "streamlines_mlp_simple, vec_norm = tracking.start(bitracker=False,inverseDirection=False,seeds=wholebrainseeds,data=tracking_data, affine=aff, model=tracker, noX=noX, noY=noY, noZ=noZ, dw = noC, stepWidth = 0.6, coordinateScaling = coordinateScaling)\n",
    "runtime = time.time() - start_time\n",
    "print('Runtime ' + str(runtime) + ' s ')\n",
    "\n",
    "start_time = time.time()\n",
    "streamlines_mlp_simple_2, vec_norm_2 = tracking.start(bitracker=False,inverseDirection=True,seeds=wholebrainseeds,data=tracking_data, affine=aff, model=tracker, noX=noX, noY=noY, noZ=noZ, dw = noC, stepWidth = 0.6, coordinateScaling = coordinateScaling)\n",
    "runtime = time.time() - start_time\n",
    "print('Runtime ' + str(runtime) + ' s ')\n",
    "\n",
    "# visualize results\n",
    "streamlines_mlp_simple_f = np.fliplr(streamlines_mlp_simple)\n",
    "streamlines_joined = np.concatenate([streamlines_mlp_simple_f,streamlines_mlp_simple_2],axis=1)    \n",
    "\n",
    "streamlines_joined_imageCS = transform_streamlines(streamlines_joined, np.linalg.inv(aff))\n",
    "                                                   \n",
    "np.save(pResult + '-ijk.vtk', streamlines_joined_imageCS)\n",
    "np.save(pResult + '-ras.vtk', streamlines_joined)\n",
    "dwi_tools.saveVTKstreamlines(streamlines_joined,pResult + '.vtk')\n",
    "                                                   \n",
    "dwi_tools.visStreamlines(streamlines_joined_imageCS,t1, vol_slice_idx = 75)"
   ]
  },
  {
   "cell_type": "code",
   "execution_count": 357,
   "metadata": {},
   "outputs": [
    {
     "name": "stderr",
     "output_type": "stream",
     "text": [
      "/home/nico/anaconda3/lib/python3.6/site-packages/vtk/util/numpy_support.py:137: FutureWarning: Conversion of the second argument of issubdtype from `complex` to `np.complexfloating` is deprecated. In future, it will be treated as `np.complex128 == np.dtype(complex).type`.\n",
      "  assert not numpy.issubdtype(z.dtype, complex), \\\n"
     ]
    }
   ],
   "source": [
    "dwi_tools.visTwoSetsOfStreamlines(transform_streamlines(streamlines_mlp_simple, np.linalg.inv(aff)),transform_streamlines(streamlines_mlp_simple_2, np.linalg.inv(aff)), t1, vol_slice_idx = 75)"
   ]
  },
  {
   "cell_type": "code",
   "execution_count": null,
   "metadata": {},
   "outputs": [],
   "source": []
  }
 ],
 "metadata": {
  "kernelspec": {
   "display_name": "Python 3",
   "language": "python",
   "name": "python3"
  },
  "language_info": {
   "codemirror_mode": {
    "name": "ipython",
    "version": 3
   },
   "file_extension": ".py",
   "mimetype": "text/x-python",
   "name": "python",
   "nbconvert_exporter": "python",
   "pygments_lexer": "ipython3",
   "version": "3.6.5"
  }
 },
 "nbformat": 4,
 "nbformat_minor": 2
}
