{
 "cells": [
  {
   "cell_type": "markdown",
   "metadata": {},
   "source": [
    "# Neuroanatomical validation of whole-brain tractographies"
   ]
  },
  {
   "cell_type": "code",
   "execution_count": null,
   "metadata": {},
   "outputs": [],
   "source": [
    "import shutil\n",
    "import time\n",
    "import nrrd\n",
    "import nibabel as nb\n",
    "import numpy as np\n",
    "import matplotlib.pyplot as plt\n",
    "import h5py\n",
    "import csv\n",
    "\n",
    "from dipy.tracking.local import LocalTracking, ThresholdTissueClassifier\n",
    "from dipy.tracking.utils import random_seeds_from_mask\n",
    "from dipy.reconst.dti import TensorModel\n",
    "from dipy.reconst.csdeconv import (ConstrainedSphericalDeconvModel,\n",
    "                                   auto_response)\n",
    "from dipy.reconst.shm import CsaOdfModel\n",
    "from dipy.data import default_sphere\n",
    "from dipy.direction import peaks_from_model\n",
    "from dipy.data import fetch_stanford_hardi, read_stanford_hardi, get_sphere\n",
    "from dipy.segment.mask import median_otsu\n",
    "from dipy.viz import actor, window\n",
    "from dipy.io.image import save_nifti\n",
    "from dipy.io import read_bvals_bvecs\n",
    "from dipy.core import gradients\n",
    "from dipy.tracking.streamline import Streamlines\n",
    "from dipy.io import read_bvals_bvecs\n",
    "from dipy.core.gradients import gradient_table, gradient_table_from_bvals_bvecs\n",
    "from dipy.reconst.dti import fractional_anisotropy\n",
    "import dipy.reconst.dti as dti\n",
    "from dipy.tracking import utils\n",
    "\n",
    "import src.dwi_tools as dwi_tools\n",
    "import src.nn_helper as nn_helper\n",
    "import src.tracking as tracking\n",
    "\n",
    "from dipy.tracking.streamline import values_from_volume\n",
    "import dipy.align.vector_fields as vfu\n",
    "from dipy.core.sphere import Sphere\n",
    "from dipy.core import subdivide_octahedron \n",
    "from scipy.spatial import KDTree\n",
    "from dipy.core import subdivide_octahedron \n",
    "\n",
    "from dipy.tracking.local import LocalTracking\n",
    "from dipy.viz import window, actor\n",
    "from dipy.viz.colormap import line_colors\n",
    "from dipy.tracking.streamline import Streamlines, transform_streamlines\n",
    "from dipy.tracking import metrics\n",
    "from dipy.tracking.utils import random_seeds_from_mask, seeds_from_mask\n",
    "\n",
    "import numpy as np\n",
    "import warnings\n",
    "\n",
    "import tensorflow as tf\n",
    "from joblib import Parallel, delayed\n",
    "import multiprocessing\n",
    "from keras.models import load_model\n",
    "from keras.layers import Activation\n",
    "\n",
    "import importlib\n",
    "importlib.reload(tracking)\n",
    "importlib.reload(nn_helper)\n",
    "import src.tracking as tracking\n",
    "import tensorflow as tf\n",
    "from src.nn_helper import swish, squared_cosine_proximity_2\n",
    "from src.SelectiveDropout import SelectiveDropout\n",
    "import os \n",
    "import warnings\n",
    "import SimpleITK as sitk\n",
    "import src.wma_interactor as wma\n",
    "importlib.reload(wma)"
   ]
  },
  {
   "cell_type": "code",
   "execution_count": null,
   "metadata": {},
   "outputs": [],
   "source": [
    "wmaDir = '/home/nico/Code/wma'\n",
    "pRoughAff = 'data/ISMRM_CSD_Atlas_Registered_new/LinearTransform_3.h5'\n",
    "pFineAff = '../wma/registered2019/ismrm_csd_fa015_20mm_noreslicing_mrtrixDenoised_reg/ismrm_csd_fa015_20mm_noreslicing_mrtrixDenoised_reg/output_tractography/itk_txform_ismrm_csd_fa015_20mm_noreslicing_mrtrixDenoised_reg.tfm'"
   ]
  },
  {
   "cell_type": "code",
   "execution_count": null,
   "metadata": {},
   "outputs": [],
   "source": [
    "pStreamlines = 'results_tracking/ISMRM_2015_Tracto_challenge_data///nico/trainingdataNEW/ISMRM_2015_Tracto_challenge_data_denoised_preproc/ismrm_csd_fa015_20mm_noreslicing_mrtrixDenoised_curated.vtk/b1000_raw_sw1.0_3x3x3_ut0_rotateD0_ep0/mlp_single_sqCos2_dx_3_dy_3_dz_3_dd_32_LeakyReLU_feat_512_depth_3_output_3_lr_0.0001_dropout_0_bn_0_unitTangent_0_wz_0--0.979982reslice-False-denoising-False-200st-20mm-fa-0.15.vtk'\n",
    "#pStreamlines = 'data/ismrm_csd_fa015_20mm_noreslicing_mrtrixDenoised_curated.vtk'\n",
    "#pStreamlines = 'data/ismrm_csd_fa015_20mm_noreslicing_mrtrixDenoised.vtk'"
   ]
  },
  {
   "cell_type": "code",
   "execution_count": null,
   "metadata": {},
   "outputs": [],
   "source": [
    "pIntermediateResults = os.path.split(pStreamlines)[-1]\n",
    "pReferenceBundle = 'T_CST.mrml'"
   ]
  },
  {
   "cell_type": "markdown",
   "metadata": {},
   "source": [
    "load first rough affine transformation matrix ISMRM -> roughATLAS"
   ]
  },
  {
   "cell_type": "code",
   "execution_count": null,
   "metadata": {},
   "outputs": [],
   "source": [
    "affRough = wma.loadTransform(pRoughAff)\n",
    "affRough[2,3] = -74\n",
    "affRough"
   ]
  },
  {
   "cell_type": "markdown",
   "metadata": {},
   "source": [
    "#### load affine roughATLAS -> fineATLAS"
   ]
  },
  {
   "cell_type": "code",
   "execution_count": null,
   "metadata": {},
   "outputs": [],
   "source": [
    "affFine = wma.loadTransform(pFineAff)\n",
    "affFine"
   ]
  },
  {
   "cell_type": "markdown",
   "metadata": {},
   "source": [
    "#### project streamlines to atlas coordinate system"
   ]
  },
  {
   "cell_type": "code",
   "execution_count": null,
   "metadata": {},
   "outputs": [],
   "source": [
    "sl = dwi_tools.loadVTKstreamlines(pStreamlines)"
   ]
  },
  {
   "cell_type": "code",
   "execution_count": null,
   "metadata": {},
   "outputs": [],
   "source": [
    "sl1 = transform_streamlines(sl, affRough) # rough transform \n",
    "sl2 = transform_streamlines(sl1, affFine) # fine transform"
   ]
  },
  {
   "cell_type": "code",
   "execution_count": null,
   "metadata": {},
   "outputs": [],
   "source": [
    "dwi_tools.saveVTKstreamlines(pStreamlines='%s/%s' % (wmaDir, pIntermediateResults), streamlines=sl2)"
   ]
  },
  {
   "cell_type": "markdown",
   "metadata": {},
   "source": [
    "## cluster streamlines by wma"
   ]
  },
  {
   "cell_type": "code",
   "execution_count": null,
   "metadata": {},
   "outputs": [],
   "source": [
    "#import subprocess\n",
    "wmaCmd = \"%s/bin/python\" % (wmaDir)\n",
    "wmaParam = \"%s/bin/wm_cluster_from_atlas.py %s/%s ORG-800FC-100HCP-minimal-atlas/ %s/clustering_output/\" % (wmaDir,wmaDir,pIntermediateResults,wmaDir)\n",
    "#os.system(wmaCmd + \" \" + wmaParam)\n",
    "print(wmaCmd + \" \" + wmaParam)"
   ]
  },
  {
   "cell_type": "markdown",
   "metadata": {},
   "source": [
    "copy reference mrml file"
   ]
  },
  {
   "cell_type": "code",
   "execution_count": null,
   "metadata": {},
   "outputs": [],
   "source": [
    "mrmlFrom = \"%s/reference_mrml_files/%s\" % (wmaDir,pReferenceBundle)\n",
    "mrmlTo = \"%s/clustering_output/%s/%s\" % (wmaDir,pIntermediateResults.replace('.vtk',''),pReferenceBundle)"
   ]
  },
  {
   "cell_type": "code",
   "execution_count": null,
   "metadata": {},
   "outputs": [],
   "source": [
    "shutil.copyfile(mrmlFrom, mrmlTo)"
   ]
  },
  {
   "cell_type": "markdown",
   "metadata": {},
   "source": [
    "## print no. of fibres per CST cluster"
   ]
  },
  {
   "cell_type": "code",
   "execution_count": null,
   "metadata": {},
   "outputs": [],
   "source": [
    "pMRML = wmaDir + \"/clustering_output/\" + pIntermediateResults.replace('.vtk','') + \"/T_CST.mrml\""
   ]
  },
  {
   "cell_type": "code",
   "execution_count": null,
   "metadata": {},
   "outputs": [],
   "source": [
    "print(pIntermediateResults)\n",
    "res = wma.computeNumberOfStreamlinesForEachCluster(pMRML)"
   ]
  },
  {
   "cell_type": "code",
   "execution_count": null,
   "metadata": {},
   "outputs": [],
   "source": [
    "pResults = 'nav_%s.csv' % (pIntermediateResults.replace('.vtk',''))\n",
    "with open(pResults, 'a') as csvfile:\n",
    "    spamwriter = csv.writer(csvfile, delimiter=',', quoting=csv.QUOTE_MINIMAL)\n",
    "    spamwriter.writerow([pReferenceBundle.replace('.mrml','')])\n",
    "    for k, v in res.items():\n",
    "        spamwriter.writerow([k, v])"
   ]
  },
  {
   "cell_type": "code",
   "execution_count": null,
   "metadata": {},
   "outputs": [],
   "source": []
  }
 ],
 "metadata": {
  "kernelspec": {
   "display_name": "Python 3",
   "language": "python",
   "name": "python3"
  },
  "language_info": {
   "codemirror_mode": {
    "name": "ipython",
    "version": 3
   },
   "file_extension": ".py",
   "mimetype": "text/x-python",
   "name": "python",
   "nbconvert_exporter": "python",
   "pygments_lexer": "ipython3",
   "version": "3.6.5"
  }
 },
 "nbformat": 4,
 "nbformat_minor": 2
}
