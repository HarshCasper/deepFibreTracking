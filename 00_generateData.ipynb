{
 "cells": [
  {
   "cell_type": "code",
   "execution_count": 1,
   "metadata": {},
   "outputs": [
    {
     "name": "stderr",
     "output_type": "stream",
     "text": [
      "Using TensorFlow backend.\n"
     ]
    }
   ],
   "source": [
    "import time\n",
    "import nrrd\n",
    "import nibabel as nb\n",
    "import numpy as np\n",
    "import matplotlib.pyplot as plt\n",
    "import h5py\n",
    "\n",
    "from dipy.tracking import eudx\n",
    "from dipy.tracking.local import LocalTracking, ThresholdTissueClassifier\n",
    "from dipy.tracking.utils import random_seeds_from_mask\n",
    "from dipy.reconst.dti import TensorModel, quantize_evecs\n",
    "from dipy.reconst.csdeconv import (ConstrainedSphericalDeconvModel,\n",
    "                                   auto_response)\n",
    "from dipy.reconst.shm import CsaOdfModel\n",
    "from dipy.data import default_sphere\n",
    "from dipy.direction import peaks_from_model, DeterministicMaximumDirectionGetter\n",
    "from dipy.data import fetch_stanford_hardi, read_stanford_hardi, get_sphere\n",
    "from dipy.segment.mask import median_otsu\n",
    "from dipy.viz import actor, window\n",
    "from dipy.io.image import save_nifti\n",
    "from dipy.io import read_bvals_bvecs\n",
    "from dipy.core import gradients\n",
    "from dipy.tracking.streamline import Streamlines, transform_streamlines\n",
    "from dipy.io import read_bvals_bvecs\n",
    "from dipy.core.gradients import gradient_table, gradient_table_from_bvals_bvecs\n",
    "from dipy.reconst.dti import fractional_anisotropy\n",
    "from dipy.tracking import utils\n",
    "\n",
    "import src.dwi_tools as dwi_tools\n",
    "import src.nn_helper as nn_helper"
   ]
  },
  {
   "cell_type": "code",
   "execution_count": null,
   "metadata": {},
   "outputs": [],
   "source": [
    "pTrainData = 'data/train_wholebrain_dti_step01.h5'\n",
    "#pTrainInput = 'train_input_normalized_dti_cs1_wholebrain_'\n",
    "noCrossings = 3"
   ]
  },
  {
   "cell_type": "markdown",
   "metadata": {},
   "source": [
    "# Preprocessing"
   ]
  },
  {
   "cell_type": "markdown",
   "metadata": {},
   "source": [
    "crop multi-shell DWI to single shell data"
   ]
  },
  {
   "cell_type": "code",
   "execution_count": 2,
   "metadata": {},
   "outputs": [],
   "source": [
    "bvals,bvecs,gtab,dwi,aff,t1,binarymask = dwi_tools.loadHCPData('data/100307')\n",
    "dwi_subset, gtab_subset, bvals_subset, bvecs_subset = dwi_tools.cropDatsetToBValue(1000, bvals, bvecs, dwi)"
   ]
  },
  {
   "cell_type": "markdown",
   "metadata": {},
   "source": [
    "The average b0 image is required for data normalization."
   ]
  },
  {
   "cell_type": "code",
   "execution_count": 3,
   "metadata": {},
   "outputs": [],
   "source": [
    "b0_idx = bvals < 10\n",
    "b0 = dwi[..., b0_idx].mean(axis=3)"
   ]
  },
  {
   "cell_type": "code",
   "execution_count": 4,
   "metadata": {},
   "outputs": [
    {
     "name": "stdout",
     "output_type": "stream",
     "text": [
      "Percentage erroneous voxels: 4.07\n"
     ]
    },
    {
     "name": "stderr",
     "output_type": "stream",
     "text": [
      "/home/nico/Code/deepFibreTracking/src/dwi_tools.py:106: RuntimeWarning: divide by zero encountered in true_divide\n",
      "  weights_normed = (weights / b0)\n",
      "/home/nico/Code/deepFibreTracking/src/dwi_tools.py:106: RuntimeWarning: invalid value encountered in true_divide\n",
      "  weights_normed = (weights / b0)\n"
     ]
    }
   ],
   "source": [
    "dwi_singleShell = np.concatenate((dwi_subset, dwi[..., b0_idx]), axis=3)\n",
    "bvals_singleShell = np.concatenate((bvals_subset, bvals[..., b0_idx]), axis=0)\n",
    "bvecs_singleShell = np.concatenate((bvecs_subset, bvecs[b0_idx,]), axis=0)\n",
    "gtab_singleShell = gradient_table(bvals=bvals_singleShell, bvecs=bvecs_singleShell, b0_threshold = 10)\n",
    "dwi_singleShell_norm = dwi_tools.normalize_dwi(dwi_singleShell, b0)"
   ]
  },
  {
   "cell_type": "markdown",
   "metadata": {},
   "source": [
    "project data into spherical harmonics"
   ]
  },
  {
   "cell_type": "markdown",
   "metadata": {},
   "source": [
    "# Tractography"
   ]
  },
  {
   "cell_type": "markdown",
   "metadata": {},
   "source": [
    "In this section we'll generate streamlines using different approaches. This is gonna be the foundation for the evaluation of our method. We'll also employ simulated as well as curated data for our analysis."
   ]
  },
  {
   "cell_type": "code",
   "execution_count": 13,
   "metadata": {},
   "outputs": [],
   "source": [
    "step_size = 0.6 # mm"
   ]
  },
  {
   "cell_type": "code",
   "execution_count": 14,
   "metadata": {},
   "outputs": [],
   "source": [
    "# roi_idx = (slice(20, 50), slice(55, 85), slice(38, 39)) #  splenium of the corpus callosum\n",
    "from dipy.tracking.utils import random_seeds_from_mask, seeds_from_mask\n",
    "ccmask, options = nrrd.read('data/100307/100307-ccSegmentation.nrrd')\n",
    "ccseeds = seeds_from_mask(ccmask, affine=aff)\n",
    "wholebrainseeds = seeds_from_mask(binarymask, affine=aff)\n",
    "validationSeeds = ccseeds[45:48]\n",
    "rndseeds = random_seeds_from_mask(binarymask, seeds_count=4000, seed_count_per_voxel=False, affine=aff)"
   ]
  },
  {
   "cell_type": "markdown",
   "metadata": {},
   "source": [
    "## Single Tensor Model"
   ]
  },
  {
   "cell_type": "code",
   "execution_count": null,
   "metadata": {},
   "outputs": [],
   "source": [
    "import dipy.reconst.dti as dti\n",
    "start_time = time.time()\n",
    "dti_model = dti.TensorModel(gtab_singleShell)\n",
    "dti_fit = dti_model.fit(dwi_singleShell_norm, mask=binarymask)\n",
    "dti_fit_odf = dti_fit.odf(sphere = default_sphere)\n",
    "dg = DeterministicMaximumDirectionGetter\n",
    "dg = dg.from_pmf(dti_fit_odf, max_angle=30., sphere=default_sphere)\n",
    "runtime = time.time() - start_time\n",
    "print('Runtime ' + str(runtime) + 's')"
   ]
  },
  {
   "cell_type": "code",
   "execution_count": null,
   "metadata": {},
   "outputs": [],
   "source": [
    "dtiPeakDirs = dtipeaks.peak_dirs[:,:,:,0,:]"
   ]
  },
  {
   "cell_type": "markdown",
   "metadata": {},
   "source": [
    "spherical harmonics"
   ]
  },
  {
   "cell_type": "code",
   "execution_count": null,
   "metadata": {},
   "outputs": [],
   "source": [
    "from dipy.data import default_sphere\n",
    "from dipy.direction import DeterministicMaximumDirectionGetter\n",
    "\n",
    "start_time = time.time()\n",
    "\n",
    "csd_model = ConstrainedSphericalDeconvModel(gtab_singleShell, None, sh_order=6)\n",
    "csd_fit = csd_model.fit(dwi_singleShell_norm, mask=binarymask)\n",
    "\n",
    "\n",
    "dg = DeterministicMaximumDirectionGetter.from_shcoeff(csd_fit.shm_coeff,\n",
    "                                                             max_angle=30.,\n",
    "                                                             sphere=default_sphere)\n",
    "runtime = time.time() - start_time\n",
    "print('Runtime ' + str(runtime) + 's')"
   ]
  },
  {
   "cell_type": "markdown",
   "metadata": {},
   "source": [
    "track and visualize streamlines"
   ]
  },
  {
   "cell_type": "code",
   "execution_count": null,
   "metadata": {},
   "outputs": [],
   "source": [
    "from dipy.tracking.local import BinaryTissueClassifier\n",
    "classifier = ThresholdTissueClassifier(dti_fit.fa, .15)\n",
    "streamline_generator = LocalTracking(dg, classifier, wholebrainseeds, aff, step_size=step_size)\n",
    "streamlines = list(streamline_generator)\n",
    "streamlines_filtered = dwi_tools.filterStreamlinesByLength(streamlines, 40)"
   ]
  },
  {
   "cell_type": "code",
   "execution_count": null,
   "metadata": {},
   "outputs": [],
   "source": [
    "import importlib\n",
    "importlib.reload(dwi_tools)\n",
    "import src.dwi_tools as dwi_tools\n",
    "from dipy.tracking.streamline import transform_streamlines\n",
    "streamlines_imageCS = transform_streamlines(sl_r,np.linalg.inv(aff)) # project streamlines from RAS into image (voxel) coordinate system\n",
    "dwi_tools.visStreamlines(streamlines_imageCS,t1)"
   ]
  },
  {
   "cell_type": "code",
   "execution_count": null,
   "metadata": {},
   "outputs": [],
   "source": [
    "dwi_tools.saveVTKstreamlines(sl_r,'baseline_dti_sw1.vtk')"
   ]
  },
  {
   "cell_type": "code",
   "execution_count": null,
   "metadata": {},
   "outputs": [],
   "source": [
    "classifier = ThresholdTissueClassifier(dti_fit.fa, .2) # used to be 0.01 10/16/18\n",
    "streamline_generator = LocalTracking(dg, classifier, validationSeeds, aff, step_size=.1)\n",
    "streamlines_val = list(streamline_generator)\n",
    "streamlines_val_filtered = dwi_tools.filterStreamlinesByLength(streamlines_val, 40)\n",
    "streamlines_val_imageCS = transform_streamlines(streamlines_val_filtered,np.linalg.inv(aff)) # project streamlines from RAS into image (voxel) coordinate system\n",
    "np.save('streamlines_validation.npy', streamlines_val_imageCS)"
   ]
  },
  {
   "cell_type": "markdown",
   "metadata": {},
   "source": [
    "## Q-ball Reconstruction"
   ]
  },
  {
   "cell_type": "code",
   "execution_count": null,
   "metadata": {},
   "outputs": [],
   "source": [
    "csamodel = CsaOdfModel(gtab, 4)\n",
    "sphere = get_sphere('symmetric724')\n",
    "start_time = time.time()\n",
    "csapeaks = peaks_from_model(model=csamodel,\n",
    "                            data=dwi,\n",
    "                            sphere=sphere,\n",
    "                            relative_peak_threshold=.5,\n",
    "                            min_separation_angle=25,\n",
    "                            mask=binarymask,\n",
    "                            return_odf=False,\n",
    "                            parallel=True,\n",
    "                            normalize_peaks=False)\n",
    "\n",
    "GFA = csapeaks.gfa\n",
    "runtime = time.time() - start_time\n",
    "print('Runtime ' + str(runtime) + ' s / GFA.shape (%d, %d, %d)' % GFA.shape)"
   ]
  },
  {
   "cell_type": "markdown",
   "metadata": {},
   "source": [
    "tracking"
   ]
  },
  {
   "cell_type": "code",
   "execution_count": null,
   "metadata": {},
   "outputs": [],
   "source": [
    "classifier = ThresholdTissueClassifier(dtipeaks.gfa, .25)\n",
    "streamlines_generator = LocalTracking(csapeaks, classifier, seeds, np.identity(4), step_size=.5)\n",
    "streamlines = Streamlines(streamlines_generator)\n",
    "streamlines_filtered = dwi_tools.filterStreamlinesByLength(streamlines, 50)"
   ]
  },
  {
   "cell_type": "markdown",
   "metadata": {},
   "source": [
    "## Constrained Spherical Deconvolution"
   ]
  },
  {
   "cell_type": "markdown",
   "metadata": {},
   "source": [
    "Use in case of b = 2,500 – 3,000 s/mm² data"
   ]
  },
  {
   "cell_type": "code",
   "execution_count": 5,
   "metadata": {},
   "outputs": [],
   "source": [
    "response, ratio = auto_response(gtab_singleShell, dwi_singleShell, roi_radius=10, fa_thr=0.7)"
   ]
  },
  {
   "cell_type": "code",
   "execution_count": 8,
   "metadata": {},
   "outputs": [
    {
     "name": "stdout",
     "output_type": "stream",
     "text": [
      "Runtime 558.4986169338226 s / GFA.shape (145, 174, 145)\n"
     ]
    }
   ],
   "source": [
    "csd_model = ConstrainedSphericalDeconvModel(gtab_singleShell, response)\n",
    "sphere = get_sphere('symmetric724')\n",
    "start_time = time.time()\n",
    "csd_peaks = peaks_from_model(model=csd_model,\n",
    "                             data=dwi_singleShell,\n",
    "                             sphere=sphere,\n",
    "                             mask=binarymask,\n",
    "                             relative_peak_threshold=.5,\n",
    "                             min_separation_angle=25,\n",
    "                             parallel=True)\n",
    "GFA = csd_peaks.gfa\n",
    "runtime = time.time() - start_time\n",
    "print('Runtime ' + str(runtime) + ' s / GFA.shape (%d, %d, %d)' % GFA.shape)"
   ]
  },
  {
   "cell_type": "code",
   "execution_count": 9,
   "metadata": {},
   "outputs": [
    {
     "name": "stdout",
     "output_type": "stream",
     "text": [
      "Runtime 91.96015524864197s\n"
     ]
    }
   ],
   "source": [
    "import dipy.reconst.dti as dti\n",
    "start_time = time.time()\n",
    "dti_model = dti.TensorModel(gtab_singleShell)\n",
    "dti_fit = dti_model.fit(dwi_singleShell_norm, mask=binarymask)\n",
    "fa = dti_fit.fa\n",
    "runtime = time.time() - start_time\n",
    "print('Runtime ' + str(runtime) + 's')"
   ]
  },
  {
   "cell_type": "code",
   "execution_count": 18,
   "metadata": {},
   "outputs": [
    {
     "name": "stdout",
     "output_type": "stream",
     "text": [
      "Runtime 267.20205879211426s\n"
     ]
    }
   ],
   "source": [
    "start_time = time.time()\n",
    "classifier = ThresholdTissueClassifier(dti_fit.fa, .1)\n",
    "streamlines_generator = LocalTracking(csd_peaks, classifier, wholebrainseeds, aff, step_size=step_size)\n",
    "streamlines = Streamlines(streamlines_generator)\n",
    "streamlines_filtered = dwi_tools.filterStreamlinesByLength(streamlines, 50)\n",
    "runtime = time.time() - start_time\n",
    "print('Runtime ' + str(runtime) + 's')"
   ]
  },
  {
   "cell_type": "code",
   "execution_count": 19,
   "metadata": {},
   "outputs": [
    {
     "name": "stdout",
     "output_type": "stream",
     "text": [
      "0/571885\n",
      "1000/571885\n",
      "2000/571885\n",
      "3000/571885\n",
      "4000/571885\n",
      "5000/571885\n",
      "6000/571885\n",
      "7000/571885\n",
      "8000/571885\n",
      "9000/571885\n",
      "10000/571885\n",
      "11000/571885\n",
      "12000/571885\n",
      "13000/571885\n",
      "14000/571885\n",
      "15000/571885\n",
      "16000/571885\n",
      "17000/571885\n",
      "18000/571885\n",
      "19000/571885\n",
      "20000/571885\n",
      "21000/571885\n",
      "22000/571885\n",
      "23000/571885\n",
      "24000/571885\n",
      "25000/571885\n",
      "26000/571885\n",
      "27000/571885\n",
      "28000/571885\n",
      "29000/571885\n",
      "30000/571885\n",
      "31000/571885\n",
      "32000/571885\n",
      "33000/571885\n",
      "34000/571885\n",
      "35000/571885\n",
      "36000/571885\n",
      "37000/571885\n",
      "38000/571885\n",
      "39000/571885\n",
      "40000/571885\n",
      "41000/571885\n",
      "42000/571885\n",
      "43000/571885\n",
      "44000/571885\n",
      "45000/571885\n",
      "46000/571885\n",
      "47000/571885\n",
      "48000/571885\n",
      "49000/571885\n",
      "50000/571885\n",
      "51000/571885\n",
      "52000/571885\n",
      "53000/571885\n",
      "54000/571885\n",
      "55000/571885\n",
      "56000/571885\n",
      "57000/571885\n",
      "58000/571885\n",
      "59000/571885\n",
      "60000/571885\n",
      "61000/571885\n",
      "62000/571885\n",
      "63000/571885\n",
      "64000/571885\n",
      "65000/571885\n",
      "66000/571885\n",
      "67000/571885\n",
      "68000/571885\n",
      "69000/571885\n",
      "70000/571885\n",
      "71000/571885\n",
      "72000/571885\n",
      "73000/571885\n",
      "74000/571885\n",
      "75000/571885\n",
      "76000/571885\n",
      "77000/571885\n",
      "78000/571885\n",
      "79000/571885\n",
      "80000/571885\n",
      "81000/571885\n",
      "82000/571885\n",
      "83000/571885\n",
      "84000/571885\n",
      "85000/571885\n",
      "86000/571885\n",
      "87000/571885\n",
      "88000/571885\n",
      "89000/571885\n",
      "90000/571885\n",
      "91000/571885\n",
      "92000/571885\n",
      "93000/571885\n",
      "94000/571885\n",
      "95000/571885\n",
      "96000/571885\n",
      "97000/571885\n",
      "98000/571885\n",
      "99000/571885\n",
      "100000/571885\n",
      "101000/571885\n",
      "102000/571885\n",
      "103000/571885\n",
      "104000/571885\n",
      "105000/571885\n",
      "106000/571885\n",
      "107000/571885\n",
      "108000/571885\n",
      "109000/571885\n",
      "110000/571885\n",
      "111000/571885\n",
      "112000/571885\n",
      "113000/571885\n",
      "114000/571885\n",
      "115000/571885\n",
      "116000/571885\n",
      "117000/571885\n",
      "118000/571885\n",
      "119000/571885\n",
      "120000/571885\n",
      "121000/571885\n",
      "122000/571885\n",
      "123000/571885\n",
      "124000/571885\n",
      "125000/571885\n",
      "126000/571885\n",
      "127000/571885\n",
      "128000/571885\n",
      "129000/571885\n",
      "130000/571885\n",
      "131000/571885\n",
      "132000/571885\n",
      "133000/571885\n",
      "134000/571885\n",
      "135000/571885\n",
      "136000/571885\n",
      "137000/571885\n",
      "138000/571885\n",
      "139000/571885\n",
      "140000/571885\n",
      "141000/571885\n",
      "142000/571885\n",
      "143000/571885\n",
      "144000/571885\n",
      "145000/571885\n",
      "146000/571885\n",
      "147000/571885\n",
      "148000/571885\n",
      "149000/571885\n",
      "150000/571885\n",
      "151000/571885\n",
      "152000/571885\n",
      "153000/571885\n",
      "154000/571885\n",
      "155000/571885\n",
      "156000/571885\n",
      "157000/571885\n",
      "158000/571885\n",
      "159000/571885\n",
      "160000/571885\n",
      "161000/571885\n",
      "162000/571885\n",
      "163000/571885\n",
      "164000/571885\n",
      "165000/571885\n",
      "166000/571885\n",
      "167000/571885\n",
      "168000/571885\n",
      "169000/571885\n",
      "170000/571885\n",
      "171000/571885\n",
      "172000/571885\n",
      "173000/571885\n",
      "174000/571885\n",
      "175000/571885\n",
      "176000/571885\n",
      "177000/571885\n",
      "178000/571885\n",
      "179000/571885\n",
      "180000/571885\n",
      "181000/571885\n",
      "182000/571885\n",
      "183000/571885\n",
      "184000/571885\n",
      "185000/571885\n",
      "186000/571885\n",
      "187000/571885\n",
      "188000/571885\n",
      "189000/571885\n",
      "190000/571885\n",
      "191000/571885\n",
      "192000/571885\n",
      "193000/571885\n",
      "194000/571885\n",
      "195000/571885\n",
      "196000/571885\n",
      "197000/571885\n",
      "198000/571885\n",
      "199000/571885\n",
      "200000/571885\n",
      "201000/571885\n",
      "202000/571885\n",
      "203000/571885\n",
      "204000/571885\n",
      "205000/571885\n",
      "206000/571885\n",
      "207000/571885\n",
      "208000/571885\n",
      "209000/571885\n",
      "210000/571885\n",
      "211000/571885\n",
      "212000/571885\n",
      "213000/571885\n",
      "214000/571885\n",
      "215000/571885\n",
      "216000/571885\n",
      "217000/571885\n",
      "218000/571885\n",
      "219000/571885\n",
      "220000/571885\n",
      "221000/571885\n",
      "222000/571885\n",
      "223000/571885\n",
      "224000/571885\n",
      "225000/571885\n",
      "226000/571885\n",
      "227000/571885\n",
      "228000/571885\n",
      "229000/571885\n",
      "230000/571885\n",
      "231000/571885\n",
      "232000/571885\n",
      "233000/571885\n",
      "234000/571885\n",
      "235000/571885\n",
      "236000/571885\n",
      "237000/571885\n",
      "238000/571885\n",
      "239000/571885\n",
      "240000/571885\n",
      "241000/571885\n",
      "242000/571885\n",
      "243000/571885\n",
      "244000/571885\n",
      "245000/571885\n",
      "246000/571885\n",
      "247000/571885\n",
      "248000/571885\n",
      "249000/571885\n",
      "250000/571885\n",
      "251000/571885\n",
      "252000/571885\n",
      "253000/571885\n",
      "254000/571885\n",
      "255000/571885\n",
      "256000/571885\n",
      "257000/571885\n",
      "258000/571885\n",
      "259000/571885\n",
      "260000/571885\n",
      "261000/571885\n",
      "262000/571885\n",
      "263000/571885\n",
      "264000/571885\n",
      "265000/571885\n",
      "266000/571885\n",
      "267000/571885\n",
      "268000/571885\n",
      "269000/571885\n",
      "270000/571885\n",
      "271000/571885\n",
      "272000/571885\n",
      "273000/571885\n",
      "274000/571885\n",
      "275000/571885\n",
      "276000/571885\n",
      "277000/571885\n",
      "278000/571885\n",
      "279000/571885\n",
      "280000/571885\n",
      "281000/571885\n",
      "282000/571885\n",
      "283000/571885\n",
      "284000/571885\n",
      "285000/571885\n",
      "286000/571885\n",
      "287000/571885\n",
      "288000/571885\n",
      "289000/571885\n",
      "290000/571885\n",
      "291000/571885\n",
      "292000/571885\n",
      "293000/571885\n",
      "294000/571885\n",
      "295000/571885\n",
      "296000/571885\n",
      "297000/571885\n",
      "298000/571885\n",
      "299000/571885\n",
      "300000/571885\n",
      "301000/571885\n",
      "302000/571885\n",
      "303000/571885\n",
      "304000/571885\n",
      "305000/571885\n",
      "306000/571885\n",
      "307000/571885\n",
      "308000/571885\n",
      "309000/571885\n",
      "310000/571885\n",
      "311000/571885\n",
      "312000/571885\n",
      "313000/571885\n",
      "314000/571885\n",
      "315000/571885\n",
      "316000/571885\n",
      "317000/571885\n",
      "318000/571885\n",
      "319000/571885\n",
      "320000/571885\n",
      "321000/571885\n",
      "322000/571885\n",
      "323000/571885\n",
      "324000/571885\n",
      "325000/571885\n",
      "326000/571885\n",
      "327000/571885\n",
      "328000/571885\n",
      "329000/571885\n",
      "330000/571885\n",
      "331000/571885\n",
      "332000/571885\n",
      "333000/571885\n",
      "334000/571885\n",
      "335000/571885\n",
      "336000/571885\n",
      "337000/571885\n",
      "338000/571885\n",
      "339000/571885\n",
      "340000/571885\n",
      "341000/571885\n",
      "342000/571885\n",
      "343000/571885\n",
      "344000/571885\n",
      "345000/571885\n",
      "346000/571885\n",
      "347000/571885\n",
      "348000/571885\n",
      "349000/571885\n",
      "350000/571885\n",
      "351000/571885\n",
      "352000/571885\n",
      "353000/571885\n",
      "354000/571885\n",
      "355000/571885\n",
      "356000/571885\n",
      "357000/571885\n",
      "358000/571885\n",
      "359000/571885\n",
      "360000/571885\n",
      "361000/571885\n",
      "362000/571885\n",
      "363000/571885\n",
      "364000/571885\n",
      "365000/571885\n",
      "366000/571885\n",
      "367000/571885\n",
      "368000/571885\n",
      "369000/571885\n",
      "370000/571885\n",
      "371000/571885\n",
      "372000/571885\n",
      "373000/571885\n",
      "374000/571885\n",
      "375000/571885\n",
      "376000/571885\n",
      "377000/571885\n",
      "378000/571885\n",
      "379000/571885\n",
      "380000/571885\n",
      "381000/571885\n",
      "382000/571885\n",
      "383000/571885\n",
      "384000/571885\n",
      "385000/571885\n",
      "386000/571885\n",
      "387000/571885\n",
      "388000/571885\n",
      "389000/571885\n",
      "390000/571885\n",
      "391000/571885\n",
      "392000/571885\n",
      "393000/571885\n",
      "394000/571885\n",
      "395000/571885\n",
      "396000/571885\n",
      "397000/571885\n",
      "398000/571885\n",
      "399000/571885\n",
      "400000/571885\n",
      "401000/571885\n",
      "402000/571885\n",
      "403000/571885\n",
      "404000/571885\n",
      "405000/571885\n",
      "406000/571885\n",
      "407000/571885\n",
      "408000/571885\n",
      "409000/571885\n",
      "410000/571885\n",
      "411000/571885\n",
      "412000/571885\n",
      "413000/571885\n",
      "414000/571885\n",
      "415000/571885\n",
      "416000/571885\n",
      "417000/571885\n",
      "418000/571885\n",
      "419000/571885\n",
      "420000/571885\n",
      "421000/571885\n",
      "422000/571885\n",
      "423000/571885\n",
      "424000/571885\n",
      "425000/571885\n",
      "426000/571885\n",
      "427000/571885\n",
      "428000/571885\n",
      "429000/571885\n",
      "430000/571885\n",
      "431000/571885\n",
      "432000/571885\n",
      "433000/571885\n",
      "434000/571885\n",
      "435000/571885\n",
      "436000/571885\n",
      "437000/571885\n",
      "438000/571885\n",
      "439000/571885\n",
      "440000/571885\n",
      "441000/571885\n",
      "442000/571885\n",
      "443000/571885\n",
      "444000/571885\n",
      "445000/571885\n",
      "446000/571885\n",
      "447000/571885\n",
      "448000/571885\n",
      "449000/571885\n",
      "450000/571885\n",
      "451000/571885\n",
      "452000/571885\n",
      "453000/571885\n",
      "454000/571885\n",
      "455000/571885\n",
      "456000/571885\n",
      "457000/571885\n",
      "458000/571885\n",
      "459000/571885\n",
      "460000/571885\n",
      "461000/571885\n",
      "462000/571885\n",
      "463000/571885\n",
      "464000/571885\n",
      "465000/571885\n",
      "466000/571885\n",
      "467000/571885\n",
      "468000/571885\n",
      "469000/571885\n",
      "470000/571885\n",
      "471000/571885\n",
      "472000/571885\n",
      "473000/571885\n",
      "474000/571885\n",
      "475000/571885\n",
      "476000/571885\n",
      "477000/571885\n",
      "478000/571885\n",
      "479000/571885\n",
      "480000/571885\n",
      "481000/571885\n",
      "482000/571885\n",
      "483000/571885\n",
      "484000/571885\n",
      "485000/571885\n",
      "486000/571885\n",
      "487000/571885\n",
      "488000/571885\n",
      "489000/571885\n",
      "490000/571885\n",
      "491000/571885\n",
      "492000/571885\n",
      "493000/571885\n",
      "494000/571885\n",
      "495000/571885\n",
      "496000/571885\n",
      "497000/571885\n",
      "498000/571885\n",
      "499000/571885\n",
      "500000/571885\n",
      "501000/571885\n",
      "502000/571885\n",
      "503000/571885\n",
      "504000/571885\n",
      "505000/571885\n",
      "506000/571885\n",
      "507000/571885\n",
      "508000/571885\n",
      "509000/571885\n",
      "510000/571885\n",
      "511000/571885\n",
      "512000/571885\n",
      "513000/571885\n",
      "514000/571885\n",
      "515000/571885\n",
      "516000/571885\n",
      "517000/571885\n",
      "518000/571885\n",
      "519000/571885\n",
      "520000/571885\n",
      "521000/571885\n",
      "522000/571885\n",
      "523000/571885\n",
      "524000/571885\n",
      "525000/571885\n",
      "526000/571885\n",
      "527000/571885\n",
      "528000/571885\n",
      "529000/571885\n",
      "530000/571885\n",
      "531000/571885\n",
      "532000/571885\n",
      "533000/571885\n",
      "534000/571885\n",
      "535000/571885\n",
      "536000/571885\n",
      "537000/571885\n",
      "538000/571885\n",
      "539000/571885\n",
      "540000/571885\n",
      "541000/571885\n",
      "542000/571885\n",
      "543000/571885\n",
      "544000/571885\n",
      "545000/571885\n",
      "546000/571885\n",
      "547000/571885\n",
      "548000/571885\n",
      "549000/571885\n",
      "550000/571885\n",
      "551000/571885\n",
      "552000/571885\n",
      "553000/571885\n",
      "554000/571885\n",
      "555000/571885\n",
      "556000/571885\n",
      "557000/571885\n",
      "558000/571885\n",
      "559000/571885\n",
      "560000/571885\n",
      "561000/571885\n",
      "562000/571885\n",
      "563000/571885\n",
      "564000/571885\n",
      "565000/571885\n",
      "566000/571885\n",
      "567000/571885\n",
      "568000/571885\n",
      "569000/571885\n",
      "570000/571885\n",
      "571000/571885\n",
      "Wrote streamlines to baseline_csd_sw06_.vtk\n"
     ]
    }
   ],
   "source": [
    "dwi_tools.saveVTKstreamlines(streamlines_filtered,'baseline_csd_sw06_.vtk')"
   ]
  },
  {
   "cell_type": "markdown",
   "metadata": {},
   "source": [
    "### Store intermediate data"
   ]
  },
  {
   "cell_type": "code",
   "execution_count": null,
   "metadata": {},
   "outputs": [],
   "source": [
    "np.save(pTrainInput + \"_sl_filt.npy\",streamlines_filtered)\n",
    "np.save(pTrainInput + \"_seeds.npy\",ccseeds)"
   ]
  },
  {
   "cell_type": "markdown",
   "metadata": {},
   "source": [
    "# Generate Training data"
   ]
  },
  {
   "cell_type": "code",
   "execution_count": 22,
   "metadata": {},
   "outputs": [],
   "source": [
    "noX = 1\n",
    "noY = 1\n",
    "noZ = 1\n",
    "coordinateScaling = 1"
   ]
  },
  {
   "cell_type": "code",
   "execution_count": 20,
   "metadata": {},
   "outputs": [],
   "source": [
    "sl_r = np.random.choice(streamlines_filtered,30000, replace=False)"
   ]
  },
  {
   "cell_type": "code",
   "execution_count": 23,
   "metadata": {},
   "outputs": [
    {
     "ename": "NameError",
     "evalue": "name 'data_sh' is not defined",
     "output_type": "error",
     "traceback": [
      "\u001b[0;31m---------------------------------------------------------------------------\u001b[0m",
      "\u001b[0;31mNameError\u001b[0m                                 Traceback (most recent call last)",
      "\u001b[0;32m<ipython-input-23-59f092e48ee2>\u001b[0m in \u001b[0;36m<module>\u001b[0;34m()\u001b[0m\n\u001b[1;32m      8\u001b[0m \u001b[0;31m#rawData = dti_fit_odf\u001b[0m\u001b[0;34m\u001b[0m\u001b[0;34m\u001b[0m\u001b[0m\n\u001b[1;32m      9\u001b[0m \u001b[0;31m#rawData = csd_fit.shm_coeff # spherical harmonics\u001b[0m\u001b[0;34m\u001b[0m\u001b[0;34m\u001b[0m\u001b[0m\n\u001b[0;32m---> 10\u001b[0;31m \u001b[0mrawData\u001b[0m \u001b[0;34m=\u001b[0m \u001b[0mdata_sh\u001b[0m\u001b[0;34m\u001b[0m\u001b[0m\n\u001b[0m\u001b[1;32m     11\u001b[0m \u001b[0;31m#rawData = tensors\u001b[0m\u001b[0;34m\u001b[0m\u001b[0;34m\u001b[0m\u001b[0m\n\u001b[1;32m     12\u001b[0m \u001b[0;31m#rawData = dtiPeakDirs\u001b[0m\u001b[0;34m\u001b[0m\u001b[0;34m\u001b[0m\u001b[0m\n",
      "\u001b[0;31mNameError\u001b[0m: name 'data_sh' is not defined"
     ]
    }
   ],
   "source": [
    "import importlib\n",
    "importlib.reload(dwi_tools)\n",
    "import src.dwi_tools as dwi_tools\n",
    "\n",
    "#rawData = dwi_B0normalized\n",
    "#rawData = dtiPeakDirs\n",
    "#rawData = dti_fit.quadratic_form.reshape([145,174,145,9])\n",
    "#rawData = dti_fit_odf\n",
    "#rawData = csd_fit.shm_coeff # spherical harmonics\n",
    "rawData = data_sh\n",
    "#rawData = tensors\n",
    "#rawData = dtiPeakDirs\n",
    "\n",
    "start_time = time.time()\n",
    "train_DWI,train_prevDirection, train_nextDirection = dwi_tools.generateTrainingData(sl_r, rawData, affine=aff, noX=noX,noY=noY,noZ=noZ,coordinateScaling=coordinateScaling,distToNeighbours=1, noCrossings = noCrossings, step = 1)\n",
    "runtime = time.time() - start_time\n",
    "print('Runtime ' + str(runtime) + ' s ')"
   ]
  },
  {
   "cell_type": "code",
   "execution_count": null,
   "metadata": {},
   "outputs": [],
   "source": [
    "train_DWI = train_DWI[0:2058818,]"
   ]
  },
  {
   "cell_type": "code",
   "execution_count": null,
   "metadata": {},
   "outputs": [],
   "source": [
    "train_prevDirection = train_prevDirection[0:2058818,]\n",
    "train_nextDirection = train_nextDirection[0:2058818,]"
   ]
  },
  {
   "cell_type": "code",
   "execution_count": null,
   "metadata": {},
   "outputs": [],
   "source": [
    "train_nextDirection[-1000,]"
   ]
  },
  {
   "cell_type": "code",
   "execution_count": null,
   "metadata": {},
   "outputs": [],
   "source": [
    "pTrainData_fibrePrediction = 'train_OLDsh4_step%.1f_wholeBrain_b1k_csd_%dx%dx%d.h5' % (step_size,noX,noY,noZ)"
   ]
  },
  {
   "cell_type": "code",
   "execution_count": null,
   "metadata": {},
   "outputs": [],
   "source": [
    "with h5py.File(pTrainData_fibrePrediction,\"w\") as f:\n",
    "    f.create_dataset('train_DWI',data=train_DWI)\n",
    "    f.create_dataset('train_curPosition',data=train_prevDirection)   \n",
    "#   f.create_dataset('train_LikelyFibreDirections',data=train_LikelyFibreDirections)   \n",
    "    f.create_dataset('train_NextFibreDirection',data=train_nextDirection)   "
   ]
  },
  {
   "cell_type": "code",
   "execution_count": null,
   "metadata": {},
   "outputs": [],
   "source": [
    "sl_r_imageCS = transform_streamlines(sl_r,np.linalg.inv(aff)) # project streamlines from RAS into image (voxel) coordinate system\n",
    "dwi_tools.visStreamlines(sl_r_imageCS,t1)"
   ]
  },
  {
   "cell_type": "code",
   "execution_count": null,
   "metadata": {},
   "outputs": [],
   "source": []
  }
 ],
 "metadata": {
  "kernelspec": {
   "display_name": "Python 3",
   "language": "python",
   "name": "python3"
  },
  "language_info": {
   "codemirror_mode": {
    "name": "ipython",
    "version": 3
   },
   "file_extension": ".py",
   "mimetype": "text/x-python",
   "name": "python",
   "nbconvert_exporter": "python",
   "pygments_lexer": "ipython3",
   "version": "3.6.5"
  }
 },
 "nbformat": 4,
 "nbformat_minor": 2
}
