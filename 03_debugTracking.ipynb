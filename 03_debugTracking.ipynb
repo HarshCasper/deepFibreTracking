{
 "cells": [
  {
   "cell_type": "code",
   "execution_count": 2,
   "metadata": {},
   "outputs": [
    {
     "name": "stderr",
     "output_type": "stream",
     "text": [
      "Using TensorFlow backend.\n"
     ]
    }
   ],
   "source": [
    "import time\n",
    "import nrrd\n",
    "import nibabel as nb\n",
    "import numpy as np\n",
    "import matplotlib.pyplot as plt\n",
    "import h5py\n",
    "\n",
    "from dipy.tracking.local import LocalTracking, ThresholdTissueClassifier\n",
    "from dipy.tracking.utils import random_seeds_from_mask\n",
    "from dipy.reconst.dti import TensorModel\n",
    "from dipy.reconst.csdeconv import (ConstrainedSphericalDeconvModel,\n",
    "                                   auto_response)\n",
    "from dipy.reconst.shm import CsaOdfModel\n",
    "from dipy.data import default_sphere\n",
    "from dipy.direction import peaks_from_model\n",
    "from dipy.data import fetch_stanford_hardi, read_stanford_hardi, get_sphere\n",
    "from dipy.segment.mask import median_otsu\n",
    "from dipy.viz import actor, window\n",
    "from dipy.io.image import save_nifti\n",
    "from dipy.io import read_bvals_bvecs\n",
    "from dipy.core import gradients\n",
    "from dipy.tracking.streamline import Streamlines\n",
    "from dipy.io import read_bvals_bvecs\n",
    "from dipy.core.gradients import gradient_table, gradient_table_from_bvals_bvecs\n",
    "from dipy.reconst.dti import fractional_anisotropy\n",
    "\n",
    "from dipy.tracking import utils\n",
    "\n",
    "import src.dwi_tools as dwi_tools\n",
    "import src.nn_helper as nn_helper\n",
    "import src.tracking as tracking\n",
    "\n",
    "from dipy.tracking.streamline import values_from_volume\n",
    "import dipy.align.vector_fields as vfu\n",
    "from dipy.core.sphere import Sphere\n",
    "from dipy.core import subdivide_octahedron \n",
    "from scipy.spatial import KDTree\n",
    "from dipy.core import subdivide_octahedron \n",
    "\n",
    "from dipy.tracking.local import LocalTracking\n",
    "from dipy.viz import window, actor\n",
    "from dipy.viz.colormap import line_colors\n",
    "from dipy.tracking.streamline import Streamlines, transform_streamlines\n",
    "from dipy.tracking import metrics\n",
    "from dipy.tracking.utils import random_seeds_from_mask, seeds_from_mask\n",
    "\n",
    "import numpy as np\n",
    "import warnings\n",
    "\n",
    "import tensorflow as tf\n",
    "from joblib import Parallel, delayed\n",
    "import multiprocessing\n",
    "from keras.models import load_model\n",
    "from keras.layers import Activation\n",
    "\n",
    "import importlib\n",
    "importlib.reload(tracking)\n",
    "import src.tracking as tracking\n",
    "import tensorflow as tf\n",
    "from src.nn_helper import swish"
   ]
  },
  {
   "cell_type": "code",
   "execution_count": 3,
   "metadata": {},
   "outputs": [],
   "source": [
    "bvals,bvecs,gtab,dwi,aff,t1,binarymask = dwi_tools.loadHCPData('100307')"
   ]
  },
  {
   "cell_type": "code",
   "execution_count": 9,
   "metadata": {},
   "outputs": [],
   "source": [
    "streamlines_ijk = np.load('mlp_doubleIn_single_mse_wb_dx_1_dy_1_dz_1_dd_15_ReLU_feat_1024_depth_3_output_3_lr_0.0001_dropout_1_bn_0_pt_0_917-0.006185-validationCCStreamlines.npy')"
   ]
  },
  {
   "cell_type": "code",
   "execution_count": 10,
   "metadata": {},
   "outputs": [
    {
     "name": "stderr",
     "output_type": "stream",
     "text": [
      "/home/nico/anaconda3/lib/python3.6/site-packages/vtk/util/numpy_support.py:137: FutureWarning: Conversion of the second argument of issubdtype from `complex` to `np.complexfloating` is deprecated. In future, it will be treated as `np.complex128 == np.dtype(complex).type`.\n",
      "  assert not numpy.issubdtype(z.dtype, complex), \\\n"
     ]
    }
   ],
   "source": [
    "importlib.reload(dwi_tools)\n",
    "import src.dwi_tools as dwi_tools\n",
    "dwi_tools.visStreamlines(streamlines_ijk,t1, vol_slice_idx = 75)"
   ]
  },
  {
   "cell_type": "code",
   "execution_count": null,
   "metadata": {},
   "outputs": [],
   "source": []
  }
 ],
 "metadata": {
  "kernelspec": {
   "display_name": "Python 3",
   "language": "python",
   "name": "python3"
  },
  "language_info": {
   "codemirror_mode": {
    "name": "ipython",
    "version": 3
   },
   "file_extension": ".py",
   "mimetype": "text/x-python",
   "name": "python",
   "nbconvert_exporter": "python",
   "pygments_lexer": "ipython3",
   "version": "3.6.5"
  }
 },
 "nbformat": 4,
 "nbformat_minor": 2
}
