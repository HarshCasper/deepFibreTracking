{
 "cells": [
  {
   "cell_type": "code",
   "execution_count": 1,
   "metadata": {},
   "outputs": [
    {
     "name": "stderr",
     "output_type": "stream",
     "text": [
      "Using TensorFlow backend.\n"
     ]
    }
   ],
   "source": [
    "import time\n",
    "import nrrd\n",
    "import nibabel as nb\n",
    "import numpy as np\n",
    "import matplotlib.pyplot as plt\n",
    "import h5py\n",
    "\n",
    "from dipy.tracking import eudx\n",
    "from dipy.tracking.local import LocalTracking, ThresholdTissueClassifier\n",
    "from dipy.tracking.utils import random_seeds_from_mask\n",
    "from dipy.reconst.dti import TensorModel, quantize_evecs\n",
    "from dipy.reconst.csdeconv import (ConstrainedSphericalDeconvModel,\n",
    "                                   auto_response)\n",
    "from dipy.reconst.shm import CsaOdfModel\n",
    "from dipy.data import default_sphere\n",
    "from dipy.direction import peaks_from_model, DeterministicMaximumDirectionGetter\n",
    "from dipy.data import fetch_stanford_hardi, read_stanford_hardi, get_sphere\n",
    "from dipy.segment.mask import median_otsu\n",
    "from dipy.viz import actor, window\n",
    "from dipy.io.image import save_nifti\n",
    "from dipy.io import read_bvals_bvecs\n",
    "from dipy.core import gradients\n",
    "from dipy.tracking.streamline import Streamlines, transform_streamlines\n",
    "from dipy.io import read_bvals_bvecs\n",
    "from dipy.core.gradients import gradient_table, gradient_table_from_bvals_bvecs\n",
    "from dipy.reconst.dti import fractional_anisotropy\n",
    "from dipy.tracking import utils\n",
    "\n",
    "import src.dwi_tools as dwi_tools\n",
    "import src.nn_helper as nn_helper"
   ]
  },
  {
   "cell_type": "code",
   "execution_count": 2,
   "metadata": {},
   "outputs": [],
   "source": [
    "pTrainData_fibrePrediction = 'train_prediction_grid_normalized_dti_cs1_wholebrain.h5'\n",
    "pTrainData_fibreTracking = 'train_tracking_grid_normalized_dti_cs1_wholebrain.h5'\n",
    "pTrainInput = 'train_input_normalized_dti_cs1_wholebrain_'\n",
    "noCrossings = 3"
   ]
  },
  {
   "cell_type": "code",
   "execution_count": 3,
   "metadata": {},
   "outputs": [
    {
     "name": "stdout",
     "output_type": "stream",
     "text": [
      "/home/nico/Code/deepFibreTracking\n"
     ]
    }
   ],
   "source": [
    "import os\n",
    "print(os.getcwd())"
   ]
  },
  {
   "cell_type": "markdown",
   "metadata": {},
   "source": [
    "# Preprocessing"
   ]
  },
  {
   "cell_type": "markdown",
   "metadata": {},
   "source": [
    "crop multi-shell DWI to single shell data"
   ]
  },
  {
   "cell_type": "code",
   "execution_count": 4,
   "metadata": {},
   "outputs": [],
   "source": [
    "bvals,bvecs,gtab,dwi,aff,t1,binarymask = dwi_tools.loadHCPData('100307')\n",
    "dwi_subset, gtab_subset, bvals_subset, bvecs_subset = dwi_tools.cropDatsetToBValue(1000, bvals, bvecs, dwi)"
   ]
  },
  {
   "cell_type": "markdown",
   "metadata": {},
   "source": [
    "The average b0 image is required for data normalization."
   ]
  },
  {
   "cell_type": "code",
   "execution_count": 5,
   "metadata": {},
   "outputs": [],
   "source": [
    "b0_idx = bvals < 10 # 10/02/18 NH: changed to work with HCP data\n",
    "b0 = dwi[..., b0_idx].mean(axis=3)"
   ]
  },
  {
   "cell_type": "code",
   "execution_count": 6,
   "metadata": {},
   "outputs": [],
   "source": [
    "dwi_singleShell = np.concatenate((dwi_subset, dwi[..., b0_idx]), axis=3)\n",
    "bvals_singleShell = np.concatenate((bvals_subset, bvals[..., b0_idx]), axis=0)\n",
    "bvecs_singleShell = np.concatenate((bvecs_subset, bvecs[b0_idx,]), axis=0)\n",
    "gtab_singleShell = gradient_table(bvals=bvals_singleShell, bvecs=bvecs_singleShell, b0_threshold = 10)"
   ]
  },
  {
   "cell_type": "markdown",
   "metadata": {},
   "source": [
    "# Tractography"
   ]
  },
  {
   "cell_type": "markdown",
   "metadata": {},
   "source": [
    "In this section we'll generate streamlines using different approaches. This is gonna be the foundation for the evaluation of our method. We'll also employ simulated as well as curated data for our analysis."
   ]
  },
  {
   "cell_type": "code",
   "execution_count": 7,
   "metadata": {},
   "outputs": [],
   "source": [
    "# roi_idx = (slice(20, 50), slice(55, 85), slice(38, 39)) #  splenium of the corpus callosum\n",
    "from dipy.tracking.utils import random_seeds_from_mask, seeds_from_mask\n",
    "ccmask, options = nrrd.read('100307/100307-ccSegmentation.nrrd')\n",
    "ccseeds = seeds_from_mask(ccmask, affine=aff)\n",
    "wholebrainseeds = seeds_from_mask(binarymask, affine=aff)\n",
    "validationSeeds = ccseeds[45:48]\n",
    "rndseeds = random_seeds_from_mask(binarymask, seeds_count=4000, seed_count_per_voxel=False, affine=aff)"
   ]
  },
  {
   "cell_type": "code",
   "execution_count": 8,
   "metadata": {},
   "outputs": [
    {
     "name": "stdout",
     "output_type": "stream",
     "text": [
      "Percentage erroneous voxels: 4.07\n"
     ]
    },
    {
     "name": "stderr",
     "output_type": "stream",
     "text": [
      "/home/nico/Code/deepFibreTracking/src/dwi_tools.py:72: RuntimeWarning: divide by zero encountered in true_divide\n",
      "  weights_normed = (weights / b0)\n",
      "/home/nico/Code/deepFibreTracking/src/dwi_tools.py:72: RuntimeWarning: invalid value encountered in true_divide\n",
      "  weights_normed = (weights / b0)\n"
     ]
    }
   ],
   "source": [
    "dwi_singleShell_norm = dwi_tools.normalize_dwi(dwi_singleShell, b0)"
   ]
  },
  {
   "cell_type": "code",
   "execution_count": 22,
   "metadata": {},
   "outputs": [],
   "source": [
    "### not necessary anymore\n",
    "#import importlib\n",
    "#importlib.reload(dwi_tools)\n",
    "#import src.dwi_tools as dwi_tools\n",
    "data_sh = dwi_tools.get_spherical_harmonics_coefficients(bvals=bvals_singleShell,bvecs=bvecs_singleShell,sh_order=4, dwi=dwi_singleShell_norm, b0 = 0)"
   ]
  },
  {
   "cell_type": "markdown",
   "metadata": {},
   "source": [
    "## Import preprocessed data"
   ]
  },
  {
   "cell_type": "code",
   "execution_count": null,
   "metadata": {},
   "outputs": [],
   "source": [
    "import nibabel as nib\n",
    "f = nib.streamlines.load('100307_new/tracts.trk', lazy_load=False)"
   ]
  },
  {
   "cell_type": "code",
   "execution_count": null,
   "metadata": {},
   "outputs": [],
   "source": [
    "import nibabel as nib\n",
    "f = nib.streamlines.load('/home/nico/tract.trk', lazy_load=False)"
   ]
  },
  {
   "cell_type": "code",
   "execution_count": null,
   "metadata": {},
   "outputs": [],
   "source": [
    "sl = f.streamlines"
   ]
  },
  {
   "cell_type": "markdown",
   "metadata": {},
   "source": [
    "## Single Tensor Model"
   ]
  },
  {
   "cell_type": "markdown",
   "metadata": {},
   "source": [
    "raw dwi data"
   ]
  },
  {
   "cell_type": "code",
   "execution_count": 17,
   "metadata": {},
   "outputs": [
    {
     "name": "stdout",
     "output_type": "stream",
     "text": [
      "Runtime 167.81133651733398s\n"
     ]
    }
   ],
   "source": [
    "import dipy.reconst.dti as dti\n",
    "start_time = time.time()\n",
    "dti_model = dti.TensorModel(gtab_singleShell)\n",
    "dti_fit = dti_model.fit(dwi_singleShell_norm, mask=binarymask)\n",
    "dti_fit_odf = dti_fit.odf(sphere = default_sphere)\n",
    "dg = DeterministicMaximumDirectionGetter\n",
    "dg = dg.from_pmf(dti_fit_odf, max_angle=30., sphere=default_sphere)\n",
    "runtime = time.time() - start_time\n",
    "print('Runtime ' + str(runtime) + 's')"
   ]
  },
  {
   "cell_type": "code",
   "execution_count": null,
   "metadata": {},
   "outputs": [],
   "source": [
    "sphere = get_sphere('symmetric724')\n",
    "start_time = time.time()\n",
    "dtipeaks = peaks_from_model(model=dti_model,\n",
    "                            data=dwi_singleShell_norm,\n",
    "                            sphere=sphere,\n",
    "                            relative_peak_threshold=.5,\n",
    "                            min_separation_angle=25,\n",
    "                            mask=binarymask,\n",
    "                            return_odf=False,\n",
    "                            parallel=True,\n",
    "                            normalize_peaks=False)\n",
    "runtime = time.time() - start_time\n",
    "print('Runtime ' + str(runtime) + ' s')"
   ]
  },
  {
   "cell_type": "code",
   "execution_count": null,
   "metadata": {},
   "outputs": [],
   "source": [
    "dtiPeakDirs = dtipeaks.peak_dirs[:,:,:,0,:]"
   ]
  },
  {
   "cell_type": "markdown",
   "metadata": {},
   "source": [
    "spherical harmonics"
   ]
  },
  {
   "cell_type": "code",
   "execution_count": null,
   "metadata": {},
   "outputs": [],
   "source": [
    "from dipy.data import default_sphere\n",
    "from dipy.direction import DeterministicMaximumDirectionGetter\n",
    "\n",
    "start_time = time.time()\n",
    "\n",
    "csd_model = ConstrainedSphericalDeconvModel(gtab_singleShell, None, sh_order=6)\n",
    "csd_fit = csd_model.fit(dwi_singleShell_norm, mask=binarymask)\n",
    "\n",
    "\n",
    "dg = DeterministicMaximumDirectionGetter.from_shcoeff(csd_fit.shm_coeff,\n",
    "                                                             max_angle=30.,\n",
    "                                                             sphere=default_sphere)\n",
    "runtime = time.time() - start_time\n",
    "print('Runtime ' + str(runtime) + 's')"
   ]
  },
  {
   "cell_type": "markdown",
   "metadata": {},
   "source": [
    "track and visualize streamlines"
   ]
  },
  {
   "cell_type": "code",
   "execution_count": 21,
   "metadata": {},
   "outputs": [],
   "source": [
    "from dipy.tracking.local import BinaryTissueClassifier\n",
    "classifier = ThresholdTissueClassifier(dti_fit.fa, .15)\n",
    "streamline_generator = LocalTracking(dg, classifier, wholebrainseeds, aff, step_size=1.)\n",
    "streamlines = list(streamline_generator)\n",
    "streamlines_filtered = dwi_tools.filterStreamlinesByLength(streamlines, 40)"
   ]
  },
  {
   "cell_type": "code",
   "execution_count": null,
   "metadata": {},
   "outputs": [],
   "source": [
    "from dipy.tracking.local import BinaryTissueClassifier\n",
    "\n",
    "#binary_classifier = BinaryTissueClassifier(binarymask == 1)\n",
    "classifier = ThresholdTissueClassifier(dti_fit.fa, .15) # used to be 0.01 10/16/18\n",
    "streamline_generator = LocalTracking(dg, classifier, wholebrainseeds, aff, step_size=.1)\n",
    "streamlines = list(streamline_generator)\n",
    "streamlines_filtered = dwi_tools.filterStreamlinesByLength(streamlines, 40)"
   ]
  },
  {
   "cell_type": "code",
   "execution_count": 20,
   "metadata": {},
   "outputs": [
    {
     "name": "stderr",
     "output_type": "stream",
     "text": [
      "/home/nico/anaconda3/lib/python3.6/site-packages/vtk/util/numpy_support.py:137: FutureWarning: Conversion of the second argument of issubdtype from `complex` to `np.complexfloating` is deprecated. In future, it will be treated as `np.complex128 == np.dtype(complex).type`.\n",
      "  assert not numpy.issubdtype(z.dtype, complex), \\\n"
     ]
    }
   ],
   "source": [
    "import importlib\n",
    "importlib.reload(dwi_tools)\n",
    "import src.dwi_tools as dwi_tools\n",
    "from dipy.tracking.streamline import transform_streamlines\n",
    "streamlines_imageCS = transform_streamlines(streamlines_filtered,np.linalg.inv(aff)) # project streamlines from RAS into image (voxel) coordinate system\n",
    "dwi_tools.visStreamlines(streamlines_imageCS,t1)"
   ]
  },
  {
   "cell_type": "code",
   "execution_count": null,
   "metadata": {},
   "outputs": [],
   "source": [
    "classifier = ThresholdTissueClassifier(dti_fit.fa, .2) # used to be 0.01 10/16/18\n",
    "streamline_generator = LocalTracking(dg, classifier, validationSeeds, aff, step_size=.1)\n",
    "streamlines_val = list(streamline_generator)\n",
    "streamlines_val_filtered = dwi_tools.filterStreamlinesByLength(streamlines_val, 40)\n",
    "streamlines_val_imageCS = transform_streamlines(streamlines_val_filtered,np.linalg.inv(aff)) # project streamlines from RAS into image (voxel) coordinate system\n",
    "np.save('streamlines_validation.npy', streamlines_val_imageCS)"
   ]
  },
  {
   "cell_type": "markdown",
   "metadata": {},
   "source": [
    "## Q-ball Reconstruction"
   ]
  },
  {
   "cell_type": "code",
   "execution_count": null,
   "metadata": {},
   "outputs": [],
   "source": [
    "csamodel = CsaOdfModel(gtab, 4)\n",
    "sphere = get_sphere('symmetric724')\n",
    "start_time = time.time()\n",
    "csapeaks = peaks_from_model(model=csamodel,\n",
    "                            data=dwi,\n",
    "                            sphere=sphere,\n",
    "                            relative_peak_threshold=.5,\n",
    "                            min_separation_angle=25,\n",
    "                            mask=binarymask,\n",
    "                            return_odf=False,\n",
    "                            parallel=True,\n",
    "                            normalize_peaks=False)\n",
    "\n",
    "GFA = csapeaks.gfa\n",
    "runtime = time.time() - start_time\n",
    "print('Runtime ' + str(runtime) + ' s / GFA.shape (%d, %d, %d)' % GFA.shape)"
   ]
  },
  {
   "cell_type": "markdown",
   "metadata": {},
   "source": [
    "tracking"
   ]
  },
  {
   "cell_type": "code",
   "execution_count": null,
   "metadata": {},
   "outputs": [],
   "source": [
    "classifier = ThresholdTissueClassifier(dtipeaks.gfa, .25)\n",
    "streamlines_generator = LocalTracking(csapeaks, classifier, seeds, np.identity(4), step_size=.5)\n",
    "streamlines = Streamlines(streamlines_generator)\n",
    "streamlines_filtered = dwi_tools.filterStreamlinesByLength(streamlines, 50)"
   ]
  },
  {
   "cell_type": "markdown",
   "metadata": {},
   "source": [
    "Visualisation"
   ]
  },
  {
   "cell_type": "code",
   "execution_count": null,
   "metadata": {},
   "outputs": [],
   "source": [
    "dwi_tools.visStreamlines(streamlines_filtered_dg,t1)\n",
    "#dwi_tools.visStreamlines(streamlines_filtered,t1,vol_slice_idx=76)"
   ]
  },
  {
   "cell_type": "markdown",
   "metadata": {},
   "source": [
    "## Constrained Spherical Deconvolution"
   ]
  },
  {
   "cell_type": "markdown",
   "metadata": {},
   "source": [
    "Use in case of b = 2,500 – 3,000 s/mm² data"
   ]
  },
  {
   "cell_type": "code",
   "execution_count": null,
   "metadata": {},
   "outputs": [],
   "source": [
    "response, ratio = auto_response(gtab_singleShell, dwi_singleShell, roi_radius=10, fa_thr=0.7)"
   ]
  },
  {
   "cell_type": "code",
   "execution_count": null,
   "metadata": {},
   "outputs": [],
   "source": [
    "csd_model = ConstrainedSphericalDeconvModel(gtab_singleShell, response)\n",
    "sphere = get_sphere('symmetric724')\n",
    "start_time = time.time()\n",
    "csd_peaks = peaks_from_model(model=csd_model,\n",
    "                             data=dwi_singleShell,\n",
    "                             sphere=sphere,\n",
    "                             mask=binarymask,\n",
    "                             relative_peak_threshold=.5,\n",
    "                             min_separation_angle=25,\n",
    "                             parallel=True)\n",
    "GFA = csd_peaks.gfa\n",
    "runtime = time.time() - start_time\n",
    "print('Runtime ' + str(runtime) + ' s / GFA.shape (%d, %d, %d)' % GFA.shape)"
   ]
  },
  {
   "cell_type": "code",
   "execution_count": null,
   "metadata": {},
   "outputs": [],
   "source": [
    "csd_fit = csd_model.fit(dwi_singleShell, mask=binarymask)\n",
    "\n",
    "from dipy.direction import DeterministicMaximumDirectionGetter\n",
    "\n",
    "detmax_dg = DeterministicMaximumDirectionGetter.from_shcoeff(csd_fit.shm_coeff,\n",
    "                                                             max_angle=30.,\n",
    "                                                             sphere=sphere)\n",
    "streamlines_generator = LocalTracking(detmax_dg, classifier, ccseeds, aff, step_size=.1)\n",
    "streamlines = Streamlines(streamlines_generator)\n",
    "streamlines_filtered_dg = dwi_tools.filterStreamlinesByLength(streamlines, 50)"
   ]
  },
  {
   "cell_type": "code",
   "execution_count": null,
   "metadata": {},
   "outputs": [],
   "source": [
    "classifier = ThresholdTissueClassifier(csd_peaks.gfa, .2)\n",
    "streamlines_generator = LocalTracking(csd_peaks, classifier, ccseeds, aff, step_size=.1)\n",
    "streamlines = Streamlines(streamlines_generator)\n",
    "streamlines_filtered = dwi_tools.filterStreamlinesByLength(streamlines, 50)"
   ]
  },
  {
   "cell_type": "markdown",
   "metadata": {},
   "source": [
    "### Store intermediate data"
   ]
  },
  {
   "cell_type": "code",
   "execution_count": 13,
   "metadata": {},
   "outputs": [],
   "source": [
    "np.save(pTrainInput + \"_sl_filt.npy\",streamlines_filtered)\n",
    "np.save(pTrainInput + \"_seeds.npy\",ccseeds)"
   ]
  },
  {
   "cell_type": "markdown",
   "metadata": {},
   "source": [
    "# Generate Training data"
   ]
  },
  {
   "cell_type": "code",
   "execution_count": null,
   "metadata": {},
   "outputs": [],
   "source": [
    "del streamlines_filtered"
   ]
  },
  {
   "cell_type": "code",
   "execution_count": 10,
   "metadata": {},
   "outputs": [],
   "source": [
    "streamlines_filtered = np.load(pTrainInput + \"_sl_filt.npy\") # RAS cs\n",
    "#streamlines_filtered = transform_streamlines(streamlines_imageCS, aff) # project streamlines from image (voxel) into RAS coordinate system"
   ]
  },
  {
   "cell_type": "code",
   "execution_count": 25,
   "metadata": {},
   "outputs": [],
   "source": [
    "noX = 1\n",
    "noY = 1\n",
    "noZ = 1\n",
    "coordinateScaling = 1"
   ]
  },
  {
   "cell_type": "code",
   "execution_count": 26,
   "metadata": {},
   "outputs": [],
   "source": [
    "sl_r = np.random.choice(streamlines_filtered,30000, replace=False)"
   ]
  },
  {
   "cell_type": "code",
   "execution_count": 28,
   "metadata": {},
   "outputs": [
    {
     "name": "stdout",
     "output_type": "stream",
     "text": [
      "Processing streamlines\n",
      "0/30000\n"
     ]
    },
    {
     "name": "stderr",
     "output_type": "stream",
     "text": [
      "/home/nico/Code/deepFibreTracking/src/dwi_tools.py:394: RuntimeWarning: invalid value encountered in true_divide\n",
      "  directionToPreviousStreamlinePoint[ctr,] = np.nan_to_num(directionToPreviousStreamlinePoint[ctr,] / np.sqrt(np.sum(directionToPreviousStreamlinePoint[ctr,] ** 2))) # unit vector\n",
      "/home/nico/Code/deepFibreTracking/src/dwi_tools.py:391: RuntimeWarning: invalid value encountered in true_divide\n",
      "  directionToNextStreamlinePoint[ctr,] = np.nan_to_num(directionToNextStreamlinePoint[ctr,] / np.sqrt(np.sum(directionToNextStreamlinePoint[ctr,] ** 2))) # unit vector\n"
     ]
    },
    {
     "name": "stdout",
     "output_type": "stream",
     "text": [
      "100/30000\n",
      "200/30000\n",
      "300/30000\n",
      "400/30000\n",
      "500/30000\n",
      "600/30000\n",
      "700/30000\n",
      "800/30000\n",
      "900/30000\n",
      "1000/30000\n",
      "1100/30000\n",
      "1200/30000\n",
      "1300/30000\n",
      "1400/30000\n",
      "1500/30000\n",
      "1600/30000\n",
      "1700/30000\n",
      "1800/30000\n",
      "1900/30000\n",
      "2000/30000\n",
      "2100/30000\n",
      "2200/30000\n",
      "2300/30000\n",
      "2400/30000\n",
      "2500/30000\n",
      "2600/30000\n",
      "2700/30000\n",
      "2800/30000\n",
      "2900/30000\n",
      "3000/30000\n",
      "3100/30000\n",
      "3200/30000\n",
      "3300/30000\n",
      "3400/30000\n",
      "3500/30000\n",
      "3600/30000\n",
      "3700/30000\n",
      "3800/30000\n",
      "3900/30000\n",
      "4000/30000\n",
      "4100/30000\n",
      "4200/30000\n",
      "4300/30000\n",
      "4400/30000\n",
      "4500/30000\n",
      "4600/30000\n",
      "4700/30000\n",
      "4800/30000\n",
      "4900/30000\n",
      "5000/30000\n",
      "5100/30000\n",
      "5200/30000\n",
      "5300/30000\n",
      "5400/30000\n",
      "5500/30000\n",
      "5600/30000\n",
      "5700/30000\n",
      "5800/30000\n",
      "5900/30000\n",
      "6000/30000\n",
      "6100/30000\n",
      "6200/30000\n",
      "6300/30000\n",
      "6400/30000\n",
      "6500/30000\n",
      "6600/30000\n",
      "6700/30000\n",
      "6800/30000\n",
      "6900/30000\n",
      "7000/30000\n",
      "7100/30000\n",
      "7200/30000\n",
      "7300/30000\n",
      "7400/30000\n",
      "7500/30000\n",
      "7600/30000\n",
      "7700/30000\n",
      "7800/30000\n",
      "7900/30000\n",
      "8000/30000\n",
      "8100/30000\n",
      "8200/30000\n",
      "8300/30000\n",
      "8400/30000\n",
      "8500/30000\n",
      "8600/30000\n",
      "8700/30000\n",
      "8800/30000\n",
      "8900/30000\n",
      "9000/30000\n",
      "9100/30000\n",
      "9200/30000\n",
      "9300/30000\n",
      "9400/30000\n",
      "9500/30000\n",
      "9600/30000\n",
      "9700/30000\n",
      "9800/30000\n",
      "9900/30000\n",
      "10000/30000\n",
      "10100/30000\n",
      "10200/30000\n",
      "10300/30000\n",
      "10400/30000\n",
      "10500/30000\n",
      "10600/30000\n",
      "10700/30000\n",
      "10800/30000\n",
      "10900/30000\n",
      "11000/30000\n",
      "11100/30000\n",
      "11200/30000\n",
      "11300/30000\n",
      "11400/30000\n",
      "11500/30000\n",
      "11600/30000\n",
      "11700/30000\n",
      "11800/30000\n",
      "11900/30000\n",
      "12000/30000\n",
      "12100/30000\n",
      "12200/30000\n",
      "12300/30000\n",
      "12400/30000\n",
      "12500/30000\n",
      "12600/30000\n",
      "12700/30000\n",
      "12800/30000\n",
      "12900/30000\n",
      "13000/30000\n",
      "13100/30000\n",
      "13200/30000\n",
      "13300/30000\n",
      "13400/30000\n",
      "13500/30000\n",
      "13600/30000\n",
      "13700/30000\n",
      "13800/30000\n",
      "13900/30000\n",
      "14000/30000\n",
      "14100/30000\n",
      "14200/30000\n",
      "14300/30000\n",
      "14400/30000\n",
      "14500/30000\n",
      "14600/30000\n",
      "14700/30000\n",
      "14800/30000\n",
      "14900/30000\n",
      "15000/30000\n",
      "15100/30000\n",
      "15200/30000\n",
      "15300/30000\n",
      "15400/30000\n",
      "15500/30000\n",
      "15600/30000\n",
      "15700/30000\n",
      "15800/30000\n",
      "15900/30000\n",
      "16000/30000\n",
      "16100/30000\n",
      "16200/30000\n",
      "16300/30000\n",
      "16400/30000\n",
      "16500/30000\n",
      "16600/30000\n",
      "16700/30000\n",
      "16800/30000\n",
      "16900/30000\n",
      "17000/30000\n",
      "17100/30000\n",
      "17200/30000\n",
      "17300/30000\n",
      "17400/30000\n",
      "17500/30000\n",
      "17600/30000\n",
      "17700/30000\n",
      "17800/30000\n",
      "17900/30000\n",
      "18000/30000\n",
      "18100/30000\n",
      "18200/30000\n",
      "18300/30000\n",
      "18400/30000\n",
      "18500/30000\n",
      "18600/30000\n",
      "18700/30000\n",
      "18800/30000\n",
      "18900/30000\n",
      "19000/30000\n",
      "19100/30000\n",
      "19200/30000\n",
      "19300/30000\n",
      "19400/30000\n",
      "19500/30000\n",
      "19600/30000\n",
      "19700/30000\n",
      "19800/30000\n",
      "19900/30000\n",
      "20000/30000\n",
      "20100/30000\n",
      "20200/30000\n",
      "20300/30000\n",
      "20400/30000\n",
      "20500/30000\n",
      "20600/30000\n",
      "20700/30000\n",
      "20800/30000\n",
      "20900/30000\n",
      "21000/30000\n",
      "21100/30000\n",
      "21200/30000\n",
      "21300/30000\n",
      "21400/30000\n",
      "21500/30000\n",
      "21600/30000\n",
      "21700/30000\n",
      "21800/30000\n",
      "21900/30000\n",
      "22000/30000\n",
      "22100/30000\n",
      "22200/30000\n",
      "22300/30000\n",
      "22400/30000\n",
      "22500/30000\n",
      "22600/30000\n",
      "22700/30000\n",
      "22800/30000\n",
      "22900/30000\n",
      "23000/30000\n",
      "23100/30000\n",
      "23200/30000\n",
      "23300/30000\n",
      "23400/30000\n",
      "23500/30000\n",
      "23600/30000\n",
      "23700/30000\n",
      "23800/30000\n",
      "23900/30000\n",
      "24000/30000\n",
      "24100/30000\n",
      "24200/30000\n",
      "24300/30000\n",
      "24400/30000\n",
      "24500/30000\n",
      "24600/30000\n",
      "24700/30000\n",
      "24800/30000\n",
      "24900/30000\n",
      "25000/30000\n",
      "25100/30000\n",
      "25200/30000\n",
      "25300/30000\n",
      "25400/30000\n",
      "25500/30000\n",
      "25600/30000\n",
      "25700/30000\n",
      "25800/30000\n",
      "25900/30000\n",
      "26000/30000\n",
      "26100/30000\n",
      "26200/30000\n",
      "26300/30000\n",
      "26400/30000\n",
      "26500/30000\n",
      "26600/30000\n",
      "26700/30000\n",
      "26800/30000\n",
      "26900/30000\n",
      "27000/30000\n",
      "27100/30000\n",
      "27200/30000\n",
      "27300/30000\n",
      "27400/30000\n",
      "27500/30000\n",
      "27600/30000\n",
      "27700/30000\n",
      "27800/30000\n",
      "27900/30000\n",
      "28000/30000\n",
      "28100/30000\n",
      "28200/30000\n",
      "28300/30000\n",
      "28400/30000\n",
      "28500/30000\n",
      "28600/30000\n",
      "28700/30000\n",
      "28800/30000\n",
      "28900/30000\n",
      "29000/30000\n",
      "29100/30000\n",
      "29200/30000\n",
      "29300/30000\n",
      "29400/30000\n",
      "29500/30000\n",
      "29600/30000\n",
      "29700/30000\n",
      "29800/30000\n",
      "29900/30000\n",
      "-> 3049738\n",
      "Runtime 1709.4590027332306 s \n"
     ]
    }
   ],
   "source": [
    "import importlib\n",
    "importlib.reload(dwi_tools)\n",
    "import src.dwi_tools as dwi_tools\n",
    "\n",
    "#rawData = dwi_B0normalized\n",
    "#rawData = dtiPeakDirs\n",
    "#rawData = dti_fit.quadratic_form.reshape([145,174,145,9])\n",
    "#rawData = dti_fit_odf\n",
    "#rawData = csd_fit.shm_coeff # spherical harmonics\n",
    "rawData = data_sh\n",
    "#rawData = tensors\n",
    "#rawData = dtiPeakDirs\n",
    "\n",
    "start_time = time.time()\n",
    "train_DWI,train_prevDirection, train_nextDirection = dwi_tools.generateTrainingData(sl_r, rawData, affine=aff, noX=noX,noY=noY,noZ=noZ,coordinateScaling=coordinateScaling,distToNeighbours=1, noCrossings = noCrossings)\n",
    "runtime = time.time() - start_time\n",
    "print('Runtime ' + str(runtime) + ' s ')"
   ]
  },
  {
   "cell_type": "code",
   "execution_count": 29,
   "metadata": {},
   "outputs": [],
   "source": [
    "pTrainData_fibrePrediction = '102218_train_OLDsh4_step10_wholeBrain_b1k_1x1.h5'"
   ]
  },
  {
   "cell_type": "code",
   "execution_count": 30,
   "metadata": {},
   "outputs": [],
   "source": [
    "with h5py.File(pTrainData_fibrePrediction,\"w\") as f:\n",
    "    f.create_dataset('train_DWI',data=train_DWI)\n",
    "    f.create_dataset('train_curPosition',data=train_prevDirection)   \n",
    "#   f.create_dataset('train_LikelyFibreDirections',data=train_LikelyFibreDirections)   \n",
    "    f.create_dataset('train_NextFibreDirection',data=train_nextDirection)   "
   ]
  }
 ],
 "metadata": {
  "kernelspec": {
   "display_name": "Python 3",
   "language": "python",
   "name": "python3"
  },
  "language_info": {
   "codemirror_mode": {
    "name": "ipython",
    "version": 3
   },
   "file_extension": ".py",
   "mimetype": "text/x-python",
   "name": "python",
   "nbconvert_exporter": "python",
   "pygments_lexer": "ipython3",
   "version": "3.6.5"
  }
 },
 "nbformat": 4,
 "nbformat_minor": 2
}
